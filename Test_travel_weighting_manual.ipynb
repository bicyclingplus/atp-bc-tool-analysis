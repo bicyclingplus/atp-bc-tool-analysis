{
 "cells": [
  {
   "cell_type": "code",
   "execution_count": null,
   "metadata": {},
   "outputs": [],
   "source": [
    "import numpy as np\n",
    "import pandas as pd\n",
    "from miles_edit import *\n",
    "\n",
    "travel = pd.read_csv('output_2023_09_05/reports/travel-4-combined.csv')\n",
    "segments = pd.read_csv('output_2023_09_05/reports/overall-5-ways.csv')\n",
    "intersections = pd.read_csv('output_2023_09_05/reports/overall-6-intersections.csv')\n",
    "reach = pd.read_csv('output_2023_09_05/reports/overall-2-reach-type.csv')"
   ]
  },
  {
   "cell_type": "code",
   "execution_count": null,
   "metadata": {
    "scrolled": true
   },
   "outputs": [],
   "source": [
    "## Don't remember why I did this but interesting to look at later maybe\n",
    "reach[reach[\"Type\"] ==\"project total\"].sort_values(by=\"Intersections count\").reset_index().plot(y=[\"Intersections count\",'Segments count'])"
   ]
  },
  {
   "cell_type": "markdown",
   "metadata": {},
   "source": [
    "### Projects to test manually:\n",
    "~~More connected/less crossings\n",
    "64ff64a08cf244c982529b2f\n",
    "65454061b5bfdcb11540ec4f\n",
    "More long/linear with many crossings\n",
    "65284187772d22a2108ddc4c\n",
    "64921e2f1930d10600997fd9\n",
    "NVM these don't work, probably inputted after Matt sent this data. I only have up to 64e...~~\n",
    "\n",
    "\n",
    "long/linear\n",
    "\n",
    "64921e2f1930d10600997fd9 ### ERROR ### No volume even though intersections are selected???? 5/7 + 4/6 + 5/7 + 4/7 + 5/7 + 5/7 = 28/41\n",
    "\n",
    "64b0406741e08c5dff327a1f 79/106 selected\n",
    "\n",
    "connected\n",
    "\n",
    "645582371c8b985d1be43a07 19/41\n",
    "\n",
    "64dfb34bcb0d64389a5ea11e 14/28"
   ]
  },
  {
   "cell_type": "markdown",
   "metadata": {},
   "source": [
    "~~For some reason when I try to run this to test it out I get division by 0...\n",
    "Maybe there are some additional errors caused by too much rounding?\n",
    "NVM the rounding was removed in the final implementation of the code.~~"
   ]
  },
  {
   "cell_type": "code",
   "execution_count": null,
   "metadata": {},
   "outputs": [],
   "source": [
    "#Pull data and input into the function from the volume to miles code\n",
    "def miles(project_id,mode,adjacent_ratio): # **NOTE: Changed the labels in volume_to_miles.json to be \"bicycling\" and \"walking\" for consistency so I only have to use one variable :P\n",
    "    proj_reach = reach[reach[\"Project ID\"] == project_id][reach[\"Type\"] == \"project total\"]\n",
    "    volume = travel[travel[\"Project ID\"] == project_id][travel[\"M Mode\"] == mode][travel[\"K Estimate\"] == \"mean\"][\"Existing Travel\"]\n",
    "    distance = calculate_distance(mode, proj_reach.iloc[0,4], proj_reach.iloc[0,2], volume, adjacent_ratio)\n",
    "    print(\"The total distance travelled is: \"+ str(distance)+ \" miles\")\n",
    "miles(\"64dfb34bcb0d64389a5ea11e\",\"walking\",(14/28))"
   ]
  }
 ],
 "metadata": {
  "kernelspec": {
   "display_name": "Python 3",
   "language": "python",
   "name": "python3"
  },
  "language_info": {
   "codemirror_mode": {
    "name": "ipython",
    "version": 3
   },
   "file_extension": ".py",
   "mimetype": "text/x-python",
   "name": "python",
   "nbconvert_exporter": "python",
   "pygments_lexer": "ipython3",
   "version": "3.8.3"
  }
 },
 "nbformat": 4,
 "nbformat_minor": 4
}
