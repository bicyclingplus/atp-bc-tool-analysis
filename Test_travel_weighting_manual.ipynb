{
 "cells": [
  {
   "cell_type": "code",
   "execution_count": null,
   "metadata": {},
   "outputs": [],
   "source": [
    "import numpy as np\n",
    "import pandas as pd\n",
    "from miles_edit import *\n",
    "\n",
    "travel = pd.read_csv('output_2023_09_05/reports/travel-4-combined.csv')\n",
    "segments = pd.read_csv('output_2023_09_05/reports/overall-5-ways.csv')\n",
    "intersections = pd.read_csv('output_2023_09_05/reports/overall-6-intersections.csv')\n",
    "reach = pd.read_csv('output_2023_09_05/reports/overall-2-reach-type.csv')"
   ]
  },
  {
   "cell_type": "code",
   "execution_count": null,
   "metadata": {
    "scrolled": false
   },
   "outputs": [],
   "source": [
    "## Don't remember why I did this but interesting to look at later maybe\n",
    "reach[reach[\"Type\"] ==\"project total\"].sort_values(by=\"Intersections count\").reset_index().plot(y=[\"Intersections count\",'Segments count'])"
   ]
  },
  {
   "cell_type": "markdown",
   "metadata": {},
   "source": [
    "### Projects to test manually:\n",
    "~~More connected/less crossings\n",
    "64ff64a08cf244c982529b2f\n",
    "65454061b5bfdcb11540ec4f\n",
    "More long/linear with many crossings\n",
    "65284187772d22a2108ddc4c\n",
    "64921e2f1930d10600997fd9\n",
    "NVM these don't work, probably inputted after Matt sent this data. I only have up to 64e...~~\n",
    "\n",
    "\n",
    "long/linear\n",
    "\n",
    "64921e2f1930d10600997fd9 ### ERROR ### No volume even though intersections are selected???? 5/7 + 4/6 + 5/7 + 4/7 + 5/7 + 5/7 = 28/41\n",
    "\n",
    "64b0406741e08c5dff327a1f 79/106 selected\n",
    "\n",
    "connected\n",
    "\n",
    "645582371c8b985d1be43a07 19/41\n",
    "\n",
    "64dfb34bcb0d64389a5ea11e 14/28"
   ]
  },
  {
   "cell_type": "code",
   "execution_count": null,
   "metadata": {},
   "outputs": [],
   "source": [
    "# (This is the wrong version where I didn't convert the project distance from feet -> miles)\n",
    "#Pull data and input into the function from the volume to miles code\n",
    "def miles(project_id,mode, volume ,adjacent_ratio): # **NOTE: Changed the labels in volume_to_miles.json to be \"bicycling\" and \"walking\" for consistency so I only have to use one variable :P\n",
    "    proj_reach = reach[reach[\"Project ID\"] == project_id][reach[\"Type\"] == \"project total\"]\n",
    "    # volume = travel.loc[travel[\"Project ID\"] == project_id][travel[\"M Mode\"] == mode][travel[\"K Estimate\"] == \"mean\"][\"Existing Travel\"]\n",
    "    # print(\"The total distance travelled is: \"+ str(distance)+ \" miles\")\n",
    "    # print(proj_reach.iloc[0,4],proj_reach.iloc[0,4]/5280)\n",
    "    return(calculate_distance(mode, proj_reach.iloc[0,4], proj_reach.iloc[0,2], volume, adjacent_ratio))\n",
    "miles(\"645582371c8b985d1be43a07\",\"bicycling\",10,-1)"
   ]
  },
  {
   "cell_type": "code",
   "execution_count": null,
   "metadata": {},
   "outputs": [],
   "source": [
    "def miles_units(project_id,mode, volume ,adjacent_ratio): # **NOTE: Changed the labels in volume_to_miles.json to be \"bicycling\" and \"walking\" for consistency so I only have to use one variable :P\n",
    "    proj_reach = reach[reach[\"Project ID\"] == project_id][reach[\"Type\"] == \"project total\"]\n",
    "    # volume = travel.loc[travel[\"Project ID\"] == project_id][travel[\"M Mode\"] == mode][travel[\"K Estimate\"] == \"mean\"][\"Existing Travel\"]\n",
    "    # print(\"The total distance travelled is: \"+ str(distance)+ \" miles\")\n",
    "    print(proj_reach.iloc[0,4],proj_reach.iloc[0,4]/5280)\n",
    "    if mode == \"bicycling\":\n",
    "        units = proj_reach.iloc[0,3]\n",
    "    else:\n",
    "        units = proj_reach.iloc[0,2]\n",
    "    return(calculate_distance(mode, (proj_reach.iloc[0,4]/5280), units, volume, adjacent_ratio))"
   ]
  },
  {
   "cell_type": "code",
   "execution_count": null,
   "metadata": {
    "scrolled": true
   },
   "outputs": [],
   "source": [
    "miles_units(\"645582371c8b985d1be43a07\",\"bicycling\",200,-1)"
   ]
  },
  {
   "cell_type": "code",
   "execution_count": null,
   "metadata": {},
   "outputs": [],
   "source": [
    "miles_units(\"645582371c8b985d1be43a07\",\"walking\",200,-1)"
   ]
  },
  {
   "cell_type": "code",
   "execution_count": null,
   "metadata": {},
   "outputs": [],
   "source": [
    "miles_units(\"645582371c8b985d1be43a07\",\"bicycling\",200,7/14)"
   ]
  },
  {
   "cell_type": "code",
   "execution_count": null,
   "metadata": {},
   "outputs": [],
   "source": [
    "miles_units(\"645582371c8b985d1be43a07\",\"walking\",200,7/14)"
   ]
  },
  {
   "cell_type": "code",
   "execution_count": null,
   "metadata": {},
   "outputs": [],
   "source": [
    "# Test by running for all projects and compare to the existing weighted miles - do the bike numbers really look too low?\n",
    "# (without the adjacent ways adjustment because I don't have that data\n",
    "def apply_weighting(row):\n",
    "    return (miles(row[\"Project ID\"],row[\"M Mode\"],row[\"Existing Travel\"],-1))\n",
    "def apply_weighting_units(row):\n",
    "    return (miles_units(row[\"Project ID\"],row[\"M Mode\"],row[\"Existing Travel\"],-1))\n",
    "\n",
    "#def apply_people(row):\n",
    "    #return (miles(row[\"Project ID\"],row[\"M Mode\"],row[\"Existing Travel\"],0))\n",
    "#def apply_people_adj(row):\n",
    "    #return (miles(row[\"Project ID\"],row[\"M Mode\"],row[\"Existing Travel\"], 0)[\"people_adj\"])\n",
    "\n",
    "travel[\"New Weighted Existing Travel\"] = travel.apply(apply_weighting, axis=1)\n",
    "travel[\"New Weighted Existing Travel Miles\"] = travel.apply(apply_weighting_units, axis=1)\n",
    "\n",
    "#travel[\"Unique People\"] = travel.apply(apply_people, axis=1)\n",
    "#travel[\"New Weighted Existing Travel\"] = travel.apply(apply_people_adj, axis=1)\n",
    "\n",
    "\n",
    "#for index, element in travel.iterrows():\n",
    "    #travel.at[index,\"New Weighted Travel\"] = miles(element[\"Project ID\"],element[\"M Mode\"],0)\n",
    "    #print(travel.loc[index,\"New Weighted Travel\"])"
   ]
  },
  {
   "cell_type": "code",
   "execution_count": null,
   "metadata": {},
   "outputs": [],
   "source": [
    "travel.groupby(\"M Mode\").plot(y=[\"Weighted Existing Travel\",\"New Weighted Existing Travel\",\"Existing Travel\",\"New Weighted Existing Travel Miles\"])"
   ]
  },
  {
   "cell_type": "code",
   "execution_count": null,
   "metadata": {},
   "outputs": [],
   "source": [
    "travel.groupby(\"M Mode\").plot(y=[\"Weighted Existing Travel\",\"Existing Travel\",\"New Weighted Existing Travel Miles\"])"
   ]
  },
  {
   "cell_type": "code",
   "execution_count": null,
   "metadata": {},
   "outputs": [],
   "source": [
    "(travel[\"New Weighted Existing Travel Miles\"]/travel[\"Existing Travel\"]).plot()"
   ]
  },
  {
   "cell_type": "code",
   "execution_count": null,
   "metadata": {},
   "outputs": [],
   "source": [
    "#(travel[\"New Weighted Existing Travel\"]/travel[\"Existing Travel\"]).plot()"
   ]
  },
  {
   "cell_type": "code",
   "execution_count": null,
   "metadata": {},
   "outputs": [],
   "source": [
    "(travel[\"Weighted Existing Travel\"]/travel[\"Existing Travel\"]).plot()"
   ]
  },
  {
   "cell_type": "code",
   "execution_count": null,
   "metadata": {},
   "outputs": [],
   "source": [
    "travel[\"old_ratio\"] = (travel[\"Weighted Existing Travel\"]/travel[\"Existing Travel\"])\n",
    "travel.groupby(\"M Mode\").plot(y=[\"old_ratio\"])"
   ]
  },
  {
   "cell_type": "code",
   "execution_count": null,
   "metadata": {},
   "outputs": [],
   "source": [
    "travel[\"new_ratio\"] = (travel[\"New Weighted Existing Travel Miles\"]/travel[\"Existing Travel\"])\n",
    "travel.groupby(\"M Mode\").plot(y=[\"new_ratio\"])"
   ]
  },
  {
   "cell_type": "code",
   "execution_count": null,
   "metadata": {},
   "outputs": [],
   "source": [
    "travel.groupby(\"M Mode\").plot(y=[\"New Weighted Existing Travel Miles\"],legend=True)"
   ]
  },
  {
   "cell_type": "code",
   "execution_count": null,
   "metadata": {},
   "outputs": [],
   "source": [
    "travel.groupby(\"M Mode\")[\"New Weighted Existing Travel Miles\"].plot(legend=True)"
   ]
  },
  {
   "cell_type": "code",
   "execution_count": null,
   "metadata": {},
   "outputs": [],
   "source": [
    "travel.groupby(\"M Mode\")[\"Weighted Existing Travel\"].plot(legend=True)"
   ]
  },
  {
   "cell_type": "code",
   "execution_count": null,
   "metadata": {
    "scrolled": true
   },
   "outputs": [],
   "source": [
    "travel.groupby(\"M Mode\")[\"Existing Travel\"].plot(legend=True)"
   ]
  },
  {
   "cell_type": "code",
   "execution_count": null,
   "metadata": {
    "scrolled": false
   },
   "outputs": [],
   "source": [
    "travel.groupby(\"M Mode\").plot(y=[\"Existing Travel\",\"New Weighted Existing Travel Miles\"],legend=True)"
   ]
  },
  {
   "cell_type": "code",
   "execution_count": null,
   "metadata": {
    "scrolled": false
   },
   "outputs": [],
   "source": [
    "travel.groupby(\"M Mode\").plot(y=[\"Weighted Existing Travel\",\"New Weighted Existing Travel Miles\"],legend=True)"
   ]
  },
  {
   "cell_type": "markdown",
   "metadata": {},
   "source": [
    "Basically for bicycling, the miles traveled is now less than the original volume, because it takes into account that each bicyclist may be counted multiple times. It should increase again with the adjacent factor?"
   ]
  },
  {
   "cell_type": "markdown",
   "metadata": {},
   "source": [
    "## Step 2: Compare to the tool's current outputs\n",
    "I won't be able to directly merge and compare these immediately because\n",
    "1. My calculation isn't complete yet - still needs the \"adjacent ways/intersections\"\n",
    "2. This table doesn't have the Project IDs - I would either need to ask to add them or try to merge it with the project list\n",
    "\n",
    "For now, I'll just do a high level comparison of the overall average, min/max etc of the data (and how it looks on a graph)"
   ]
  },
  {
   "cell_type": "code",
   "execution_count": null,
   "metadata": {},
   "outputs": [],
   "source": [
    "current = pd.read_csv('2024_01_18_reports_peter.csv')"
   ]
  },
  {
   "cell_type": "code",
   "execution_count": null,
   "metadata": {},
   "outputs": [],
   "source": [
    "current.plot(y=[\"BMT (Total)\",\"WMT (Total)\"])"
   ]
  },
  {
   "cell_type": "code",
   "execution_count": null,
   "metadata": {},
   "outputs": [],
   "source": [
    "current.plot(y=[\"BMT (Total)\"])\n",
    "travel[travel[\"M Mode\"] == \"bicycling\"].plot(y=[\"New Weighted Existing Travel Miles\"],legend=True)"
   ]
  },
  {
   "cell_type": "code",
   "execution_count": null,
   "metadata": {},
   "outputs": [],
   "source": [
    "current[\"BMT (Total)\"].describe()"
   ]
  },
  {
   "cell_type": "code",
   "execution_count": null,
   "metadata": {},
   "outputs": [],
   "source": [
    "travel[travel[\"M Mode\"] == \"bicycling\"][\"New Weighted Existing Travel Miles\"].describe()"
   ]
  },
  {
   "cell_type": "code",
   "execution_count": null,
   "metadata": {},
   "outputs": [],
   "source": [
    "#current.sort_values(by=\"BMT (Total)\").reset_index().plot(y=[\"BMT (Total)\"])\n",
    "#travel[travel[\"M Mode\"] == \"bicycling\"].sort_values(by=\"New Weighted Existing Travel Miles\").reset_index().plot(y=[\"New Weighted Existing Travel Miles\"],legend=True)"
   ]
  },
  {
   "cell_type": "code",
   "execution_count": null,
   "metadata": {},
   "outputs": [],
   "source": [
    "current.plot(y=[\"WMT (Total)\"])\n",
    "travel[travel[\"M Mode\"] == \"walking\"].plot(y=[\"New Weighted Existing Travel Miles\"],legend=True)"
   ]
  }
 ],
 "metadata": {
  "kernelspec": {
   "display_name": "Python 3",
   "language": "python",
   "name": "python3"
  },
  "language_info": {
   "codemirror_mode": {
    "name": "ipython",
    "version": 3
   },
   "file_extension": ".py",
   "mimetype": "text/x-python",
   "name": "python",
   "nbconvert_exporter": "python",
   "pygments_lexer": "ipython3",
   "version": "3.8.3"
  }
 },
 "nbformat": 4,
 "nbformat_minor": 4
}
