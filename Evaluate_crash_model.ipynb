{
 "cells": [
  {
   "cell_type": "code",
   "execution_count": null,
   "metadata": {},
   "outputs": [],
   "source": [
    "import numpy as np\n",
    "import pandas as pd\n",
    "import matplotlib as plt"
   ]
  },
  {
   "cell_type": "code",
   "execution_count": null,
   "metadata": {},
   "outputs": [],
   "source": [
    "import statsmodels.api as sm\n",
    "from patsy import dmatrices"
   ]
  },
  {
   "cell_type": "markdown",
   "metadata": {},
   "source": [
    "### Model Crashes <-> Project Length + Volume + Volume/Functional Class\n",
    "1. Is the number of crashes associated with project length?"
   ]
  },
  {
   "cell_type": "code",
   "execution_count": null,
   "metadata": {},
   "outputs": [],
   "source": [
    "crashes = pd.read_csv('output_2023_09_05/reports/safety-4-combined-b-crashes-all.csv')\n",
    "Ljvf = pd.read_csv('output_2023_09_05/reports/overall-3-reach-Ljvf.csv')\n",
    "reach = pd.read_csv('output_2023_09_05/reports/overall-2-reach-type.csv')\n",
    "general = pd.read_csv('output_2023_09_05/reports/overall-1-general.csv')"
   ]
  },
  {
   "cell_type": "markdown",
   "metadata": {},
   "source": [
    "First, make a new table with both the ECmoj model from the crashes table, and the associated project length/intersection count from the overall reach type"
   ]
  },
  {
   "cell_type": "code",
   "execution_count": null,
   "metadata": {},
   "outputs": [],
   "source": [
    "crashes_reach = pd.merge(crashes, reach, on=\"Project ID\")\n",
    "crashes_reach = crashes_reach.rename(columns = {\"K estimate\":\"K Estimate\"})"
   ]
  },
  {
   "cell_type": "code",
   "execution_count": null,
   "metadata": {},
   "outputs": [],
   "source": [
    "crashes_reach_data = crashes_reach.rename(columns = {\"M Mode\":\"mode\",\"O Outcome\":\"outcome\",\"J Location\":\"location\", \"K Estimate\":\"estimate\",\"ECmoj with user input\":\"ECmoj_user\",\"ECmoj model\": \"ECmoj_model\",\"Intersections count\":\"intersection_count\",\"Segments count\":\"segment_count\",\"Total length of segments\":\"segment_length\"})"
   ]
  },
  {
   "cell_type": "code",
   "execution_count": null,
   "metadata": {},
   "outputs": [],
   "source": [
    "crashes_reach_intersection = crashes_reach_data[crashes_reach_data[\"location\"] == \"intersection\"]\n",
    "crashes_reach_segment = crashes_reach_data[crashes_reach_data[\"location\"] == \"roadway\"]"
   ]
  },
  {
   "cell_type": "markdown",
   "metadata": {},
   "source": [
    "Next, make the models for segment length/intersection count only"
   ]
  },
  {
   "cell_type": "code",
   "execution_count": null,
   "metadata": {},
   "outputs": [],
   "source": [
    "## y, X = dmatrices('ECmoj_model ~ segment_length + mode + outcome', data=crashes_reach_segment[crashes_reach_segment[\"Type\"] == \"network\"], return_type = 'dataframe')\n",
    "## model = sm.OLS(y,X)\n",
    "## res = model.fit()\n",
    "## print(res.summary())\n",
    "## Idk whether to put all these variables, probably not?"
   ]
  },
  {
   "cell_type": "code",
   "execution_count": null,
   "metadata": {},
   "outputs": [],
   "source": [
    "y, X = dmatrices('ECmoj_model ~ segment_length', data=crashes_reach_segment[crashes_reach_segment[\"Type\"] == \"project total\"], return_type = 'dataframe')\n",
    "model = sm.OLS(y,X)\n",
    "res = model.fit()\n",
    "print(res.summary())"
   ]
  },
  {
   "cell_type": "code",
   "execution_count": null,
   "metadata": {},
   "outputs": [],
   "source": [
    "y2, X2 = dmatrices('ECmoj_model ~ intersection_count', data=crashes_reach_intersection[crashes_reach_intersection[\"Type\"] == \"project total\"], return_type = 'dataframe')\n",
    "model2 = sm.OLS(y2,X2)\n",
    "res2 = model2.fit()\n",
    "print(res2.summary())\n",
    "## The conditional number for this is very low... if that is a good thing (it isn't showing the warning anymore at least)?"
   ]
  },
  {
   "cell_type": "markdown",
   "metadata": {},
   "source": [
    "### Try to bring in volume"
   ]
  },
  {
   "cell_type": "code",
   "execution_count": null,
   "metadata": {},
   "outputs": [],
   "source": [
    "volume = crashes = pd.read_csv('output_2023_09_05/reports/safety-5-volume-d-combined.csv')\n",
    "volume = volume.rename(columns={\"J Location type\":\"J Location\"})"
   ]
  },
  {
   "cell_type": "code",
   "execution_count": null,
   "metadata": {
    "scrolled": false
   },
   "outputs": [],
   "source": [
    "## Add volume to the combined table\n",
    "crashes_reach_volume = pd.merge(crashes_reach, volume, on=[\"Project ID\",\"M Mode\",\"J Location\",\"K Estimate\"])\n",
    "crashes_reach_volume"
   ]
  },
  {
   "cell_type": "markdown",
   "metadata": {},
   "source": [
    "### Graphs - split up the model and compare/correlate variables to the model outputs"
   ]
  },
  {
   "cell_type": "code",
   "execution_count": null,
   "metadata": {},
   "outputs": [],
   "source": [
    "crashes_reach_volume.groupby(\"J Location\").plot(y=[\"ECmoj model\"])\n",
    "## Intersections looks really off! Segments are actually kind of ok - only up to 30 crashes.\n",
    "## What is different about segments vs intersections?"
   ]
  },
  {
   "cell_type": "code",
   "execution_count": null,
   "metadata": {},
   "outputs": [],
   "source": [
    "crashes_reach_volume[crashes_reach_volume[\"J Location\"] == \"roadway\"].plot.scatter(x=[\"Total length of segments\"], y=[\"ECmoj model\"])\n",
    "## Also, looks like there is weird behavior when the length/count is 0?"
   ]
  },
  {
   "cell_type": "code",
   "execution_count": null,
   "metadata": {},
   "outputs": [],
   "source": [
    "crashes_reach_volume[crashes_reach_volume[\"J Location\"] == \"intersection\"].plot.scatter(x=[\"Intersections count\"], y=[\"ECmoj model\"])\n",
    "## Also, looks like there is weird behavior when the length/count is 0?"
   ]
  },
  {
   "cell_type": "code",
   "execution_count": null,
   "metadata": {},
   "outputs": [],
   "source": [
    "[crashes_reach_volume[\"Type\"] == \"project total\"]"
   ]
  },
  {
   "cell_type": "code",
   "execution_count": null,
   "metadata": {},
   "outputs": [],
   "source": [
    ".plot.scatter(x=[\"Total length of segments\"], y=[\"ECmoj model\"])"
   ]
  },
  {
   "cell_type": "code",
   "execution_count": null,
   "metadata": {},
   "outputs": [],
   "source": [
    "crashes_reach_volume_user = crashes_reach_volume[crashes_reach_volume[\"Type\"] == \"user defined\"][(crashes_reach_volume[\"Total length of segments\"] > 0) | (crashes_reach_volume[\"Intersections count\"] > 0)]\n",
    "crashes_reach_volume_user.groupby(\"J Location\").plot(y=[\"ECmoj model\"])"
   ]
  },
  {
   "cell_type": "code",
   "execution_count": null,
   "metadata": {},
   "outputs": [],
   "source": [
    "crashes_reach_volume[crashes_reach_volume[\"J Location\"] == \"roadway\"].groupby([\"Type\"]).plot.scatter(x=[\"Total length of segments\"], y=[\"ECmoj model\"])\n",
    "## Looks like there is some weird behavior when user defined segments have a length of 0... \n",
    "## oh nvm that must just be projects with 0 user defined, all network only"
   ]
  },
  {
   "cell_type": "code",
   "execution_count": null,
   "metadata": {},
   "outputs": [],
   "source": [
    "crashes_reach_volume[crashes_reach_volume[\"J Location\"] == \"intersection\"].groupby([\"Type\"]).plot.scatter(x=[\"Intersections count\"], y=[\"ECmoj model\"])\n",
    "## Note that the ratio between intersections count and ECmoj seems to be much higher than the ratio between segment length and ECmoj"
   ]
  },
  {
   "cell_type": "code",
   "execution_count": null,
   "metadata": {},
   "outputs": [],
   "source": [
    "crashes_reach_volume.groupby(\"J Location\").plot.scatter(x=[\"Existing Volume Vmj\"], y=[\"ECmoj model\"])\n",
    "## Similar situation with volume <-> crashes - for some reason, much higher for intersections than roadways\n",
    "## These look maybe a bit more curved (exponential/quadratic?) than linear?"
   ]
  },
  {
   "cell_type": "markdown",
   "metadata": {},
   "source": [
    "### Add volume to regressions\n",
    "Now to make a regression - let's split by location type since there seems to be a big difference here"
   ]
  },
  {
   "cell_type": "code",
   "execution_count": null,
   "metadata": {},
   "outputs": [],
   "source": [
    "crashes_reach_volume_data = crashes_reach_volume.rename(columns = {\"M Mode\":\"mode\",\"O Outcome\":\"outcome\",\"J Location\":\"location\", \"K Estimate\":\"estimate\",\"ECmoj with user input\":\"ECmoj_user\",\"ECmoj model\": \"ECmoj_model\",\"Intersections count\":\"intersection_count\",\"Segments count\":\"segment_count\",\"Total length of segments\":\"segment_length\", \"Existing Volume Vmj\":\"Vmj\", \"Projected Volume PVmjk\":\"Pvmjk\"})"
   ]
  },
  {
   "cell_type": "code",
   "execution_count": null,
   "metadata": {},
   "outputs": [],
   "source": [
    "crashes_reach_volume_intersection = crashes_reach_volume_data[crashes_reach_volume_data[\"location\"] == \"intersection\"]\n",
    "crashes_reach_volume_segment = crashes_reach_volume_data[crashes_reach_volume_data[\"location\"] == \"roadway\"]"
   ]
  },
  {
   "cell_type": "code",
   "execution_count": null,
   "metadata": {},
   "outputs": [],
   "source": [
    "y3, X3 = dmatrices('ECmoj_model ~ segment_length + Vmj', data=crashes_reach_volume_segment[crashes_reach_volume_segment[\"Type\"] == \"project total\"], return_type = 'dataframe')\n",
    "model3 = sm.OLS(y3,X3)\n",
    "res3 = model3.fit()\n",
    "print(res3.summary())"
   ]
  },
  {
   "cell_type": "code",
   "execution_count": null,
   "metadata": {
    "scrolled": false
   },
   "outputs": [],
   "source": [
    "sm.graphics.plot_partregress_grid(res3,['segment_length','Vmj'])"
   ]
  },
  {
   "cell_type": "code",
   "execution_count": null,
   "metadata": {
    "scrolled": false
   },
   "outputs": [],
   "source": [
    "## Individual graphs (to see more easily)\n",
    "sm.graphics.plot_partregress('ECmoj_model','segment_length',['Vmj'], data=crashes_reach_volume_segment[crashes_reach_volume_segment[\"Type\"] == \"network\"], obs_labels=False)"
   ]
  },
  {
   "cell_type": "code",
   "execution_count": null,
   "metadata": {
    "scrolled": false
   },
   "outputs": [],
   "source": [
    "sm.graphics.plot_partregress('ECmoj_model','Vmj',['segment_length'], data=crashes_reach_volume_segment[crashes_reach_volume_segment[\"Type\"] == \"network\"], obs_labels=False)"
   ]
  },
  {
   "cell_type": "code",
   "execution_count": null,
   "metadata": {},
   "outputs": [],
   "source": [
    "## Now for intersections\n",
    "y4, X4 = dmatrices('ECmoj_model ~ intersection_count + Vmj', data=crashes_reach_volume_intersection[crashes_reach_volume_intersection[\"Type\"] == \"project total\"], return_type = 'dataframe')\n",
    "model4 = sm.OLS(y4,X4)\n",
    "res4 = model4.fit()\n",
    "print(res4.summary())\n",
    "## Both in this model and the first one with intersection count, the coefficient of intersection count has been ~2.\n",
    "# I wonder if there was some constant multiplier doubling intersection counts somewhere?\n",
    "# I should also split by mode and retry..."
   ]
  },
  {
   "cell_type": "code",
   "execution_count": null,
   "metadata": {},
   "outputs": [],
   "source": [
    "sm.graphics.plot_partregress_grid(res4,['intersection_count','Vmj'])"
   ]
  },
  {
   "cell_type": "code",
   "execution_count": null,
   "metadata": {},
   "outputs": [],
   "source": [
    "## Individual graphs (to see more easily)\n",
    "sm.graphics.plot_partregress('ECmoj_model','intersection_count',['Vmj'], data=crashes_reach_volume_intersection[crashes_reach_volume_intersection[\"Type\"] == \"project total\"], obs_labels=False)"
   ]
  },
  {
   "cell_type": "code",
   "execution_count": null,
   "metadata": {
    "scrolled": false
   },
   "outputs": [],
   "source": [
    "sm.graphics.plot_partregress('ECmoj_model','Vmj',['intersection_count'], data=crashes_reach_volume_intersection[crashes_reach_volume_intersection[\"Type\"] == \"project total\"], obs_labels=False)"
   ]
  },
  {
   "cell_type": "markdown",
   "metadata": {},
   "source": [
    "### Try combinations of variables: length/count * Vmj"
   ]
  },
  {
   "cell_type": "code",
   "execution_count": null,
   "metadata": {},
   "outputs": [],
   "source": [
    "# Start with intersections - since that is clearly the problem\n",
    "y5, X5 = dmatrices('ECmoj_model ~ intersection_count * Vmj', data=crashes_reach_volume_intersection[crashes_reach_volume_intersection[\"Type\"] == \"project total\"], return_type = 'dataframe')\n",
    "model5 = sm.OLS(y5,X5)\n",
    "res5 = model5.fit()\n",
    "print(res5.summary())"
   ]
  },
  {
   "cell_type": "code",
   "execution_count": null,
   "metadata": {},
   "outputs": [],
   "source": [
    "sm.graphics.plot_partregress_grid(res5)\n",
    "## I have no idea what this means... need to read up about it before interpreting!"
   ]
  }
 ],
 "metadata": {
  "kernelspec": {
   "display_name": "Python 3",
   "language": "python",
   "name": "python3"
  },
  "language_info": {
   "codemirror_mode": {
    "name": "ipython",
    "version": 3
   },
   "file_extension": ".py",
   "mimetype": "text/x-python",
   "name": "python",
   "nbconvert_exporter": "python",
   "pygments_lexer": "ipython3",
   "version": "3.8.3"
  }
 },
 "nbformat": 4,
 "nbformat_minor": 4
}
