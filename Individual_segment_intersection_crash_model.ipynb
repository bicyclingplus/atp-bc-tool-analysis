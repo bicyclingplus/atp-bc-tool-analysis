{
 "cells": [
  {
   "cell_type": "code",
   "execution_count": null,
   "metadata": {},
   "outputs": [],
   "source": [
    "import numpy as np\n",
    "import pandas as pd\n",
    "import matplotlib as plt"
   ]
  },
  {
   "cell_type": "markdown",
   "metadata": {},
   "source": [
    "This applies the process in Evaluate_crash_model_manual.ipynb (calculate crashes at each individual intersection, then find the sum) across all projects."
   ]
  },
  {
   "cell_type": "code",
   "execution_count": null,
   "metadata": {},
   "outputs": [],
   "source": [
    "crashes = pd.read_csv('output_2023_09_05/reports/safety-4-combined-b-crashes-all.csv')\n",
    "segments = pd.read_csv('output_2023_09_05/reports/overall-5-ways.csv')\n",
    "intersections = pd.read_csv('output_2023_09_05/reports/overall-6-intersections.csv')\n",
    "alpha = pd.read_csv('output_2023_09_05/lookups/alpha.csv')\n",
    "Ljvf = pd.read_csv('output_2023_09_05/reports/overall-3-reach-Ljvf.csv')\n",
    "volume = pd.read_csv('output_2023_09_05/reports/safety-5-volume-d-combined.csv')\n",
    "crash_model = pd.read_csv('output_2023_09_05/reports/safety-4-combined-a-crashes-model.csv')"
   ]
  },
  {
   "cell_type": "code",
   "execution_count": null,
   "metadata": {},
   "outputs": [],
   "source": [
    "segments_n = segments.replace([\"Not applicable\",\"Not available\"],np.NaN)\n",
    "intersections_n = intersections.replace([\"Not applicable\",\"Not available\"],np.NaN)"
   ]
  },
  {
   "cell_type": "code",
   "execution_count": null,
   "metadata": {},
   "outputs": [],
   "source": [
    "segments_n[\"Bicycle exposure\"]=pd.to_numeric(segments_n[\"Bicycle exposure\"])\n",
    "segments_n[\"Pedestrian exposure\"]=pd.to_numeric(segments_n[\"Pedestrian exposure\"])\n",
    "intersections_n[\"Bicycle exposure\"]=pd.to_numeric(intersections_n[\"Bicycle exposure\"])\n",
    "intersections_n[\"Pedestrian exposure\"]=pd.to_numeric(intersections_n[\"Pedestrian exposure\"])"
   ]
  },
  {
   "cell_type": "code",
   "execution_count": null,
   "metadata": {},
   "outputs": [],
   "source": [
    "## Find e^alpha from alpha constant\n",
    "alpha[\"e_alpha\"] = np.exp(alpha[\"alpha\"])"
   ]
  },
  {
   "cell_type": "code",
   "execution_count": null,
   "metadata": {},
   "outputs": [],
   "source": [
    "## Rename columns to match each other and combine tables\n",
    "segments_n[\"Bicycle volume class\"] = segments_n[\"Bicycle volume class\"].str.lower()\n",
    "alpha_segment = alpha[alpha[\"location type\"] == \"roadway\"].rename(columns={\"volume\":\"Bicycle volume class\",\"functional class\":\"Functional class\"})\n",
    "## eventually do this differently for each mode\n",
    "segments_alpha = pd.merge(segments_n,alpha_segment, on=[\"Bicycle volume class\",\"Functional class\"])\n",
    "\n",
    "## Convert to miles - what I didn't notice earlier!\n",
    "segments_alpha[\"Length_miles\"] = segments_alpha[\"Length\"]/5280"
   ]
  },
  {
   "cell_type": "code",
   "execution_count": null,
   "metadata": {},
   "outputs": [],
   "source": [
    "## Set volume separately by mode\n",
    "segments_alpha.loc[segments_alpha[\"mode\"] == \"bicycling\", \"Volume\"] = segments_alpha.loc[segments_alpha[\"mode\"] == \"bicycling\", \"Bicycle exposure\"]\n",
    "segments_alpha.loc[segments_alpha[\"mode\"] == \"walking\", \"Volume\"] = segments_alpha.loc[segments_alpha[\"mode\"] == \"walking\", \"Pedestrian exposure\"]\n",
    "segments_alpha.loc[segments_alpha[\"mode\"] == \"combined\", \"Volume\"] = (segments_alpha.loc[segments_alpha[\"mode\"] == \"combined\", \"Bicycle exposure\"] + segments_alpha.loc[segments_alpha[\"mode\"] == \"combined\", \"Pedestrian exposure\"])\n",
    "segments_alpha[\"Volume_p\"] = pow(segments_alpha[\"Volume\"],0.5)\n",
    "\n",
    "segments_alpha[\"e_alpha_Length\"] = segments_alpha[\"e_alpha\"]*segments_alpha[\"Length_miles\"]\n",
    "segments_alpha[\"e_alpha_Volume_p\"] = segments_alpha[\"e_alpha\"]*segments_alpha[\"Volume_p\"]\n",
    "segments_alpha[\"Crashes\"] = segments_alpha[\"e_alpha_Length\"]*segments_alpha[\"Volume_p\"]\n",
    "\n",
    "segments_alpha.groupby([\"mode\",\"outcome\"])[\"Crashes\"].plot(legend=True,figsize=(15,10))\n",
    "## So this is the estimated crashes at each individual segment - which actually looks kind of reasonable. 0.1 - 0.2 crashes/year, totalled over all of the segments, \"sounds ok\""
   ]
  },
  {
   "cell_type": "code",
   "execution_count": null,
   "metadata": {},
   "outputs": [],
   "source": [
    "## Rename columns to match each other and combine tables\n",
    "intersections_n[\"Pedestrian volume class\"] = intersections_n[\"Pedestrian volume class\"].str.lower()\n",
    "alpha_intersection = alpha[alpha[\"location type\"] == \"intersection\"].rename(columns={\"volume\":\"Pedestrian volume class\",\"functional class\":\"Functional class\"})\n",
    "intersections_alpha = pd.merge(intersections_n,alpha_intersection, on=[\"Pedestrian volume class\",\"Functional class\"])"
   ]
  },
  {
   "cell_type": "code",
   "execution_count": null,
   "metadata": {},
   "outputs": [],
   "source": [
    "## Calculate volume separately by mode\n",
    "intersections_alpha.loc[intersections_alpha[\"mode\"] == \"bicycling\", \"Volume\"] = intersections_alpha.loc[intersections_alpha[\"mode\"] == \"bicycling\", \"Bicycle exposure\"]\n",
    "intersections_alpha.loc[intersections_alpha[\"mode\"] == \"walking\", \"Volume\"] = intersections_alpha.loc[intersections_alpha[\"mode\"] == \"walking\", \"Pedestrian exposure\"]\n",
    "intersections_alpha.loc[intersections_alpha[\"mode\"] == \"combined\", \"Volume\"] = (intersections_alpha.loc[intersections_alpha[\"mode\"] == \"combined\", \"Bicycle exposure\"] + intersections_alpha.loc[intersections_alpha[\"mode\"] == \"combined\", \"Pedestrian exposure\"])\n",
    "intersections_alpha[\"Volume_p\"] = pow(intersections_alpha[\"Volume\"],0.5)\n",
    "\n",
    "## No multiplying by length or count here - the e^alpha is just crashes/volume for that one intersection\n",
    "intersections_alpha[\"e_alpha_Volume_p\"] = intersections_alpha[\"e_alpha\"]*intersections_alpha[\"Volume_p\"]\n",
    "intersections_alpha[\"Crashes\"] = intersections_alpha[\"e_alpha_Volume_p\"]\n",
    "intersections_alpha.groupby([\"mode\",\"outcome\"])[\"Crashes\"].plot(legend=True,figsize=(15,10))\n",
    "## Looks like bicycling is actually > than combined for most of them\n",
    "# this is probably because the combined alpha constants are the average of bike and walk, so combined crashes is not actually the sum of bike crashes and walk crashes?"
   ]
  },
  {
   "cell_type": "code",
   "execution_count": null,
   "metadata": {},
   "outputs": [],
   "source": [
    "## Total segment crashes\n",
    "segments_alpha.groupby([\"Project ID\",\"mode\",\"outcome\"]).sum().groupby([\"mode\",\"outcome\"])[\"Crashes\"].plot()"
   ]
  },
  {
   "cell_type": "code",
   "execution_count": null,
   "metadata": {},
   "outputs": [],
   "source": [
    "# compare to tool\n",
    "crashes[crashes[\"J Location\"] == \"roadway\"][crashes[\"K estimate\"] == \"mean\"].groupby([\"M Mode\",\"O Outcome\"])[\"ECmoj model\"].plot(legend=True)"
   ]
  },
  {
   "cell_type": "code",
   "execution_count": null,
   "metadata": {},
   "outputs": [],
   "source": [
    "## Total intersection crashes\n",
    "intersections_alpha.groupby([\"Project ID\",\"mode\",\"outcome\"]).sum().groupby([\"mode\",\"outcome\"])[\"Crashes\"].plot(legend=True)"
   ]
  },
  {
   "cell_type": "code",
   "execution_count": null,
   "metadata": {},
   "outputs": [],
   "source": [
    "# Compare to tool\n",
    "crashes[crashes[\"J Location\"] == \"intersection\"][crashes[\"K estimate\"] == \"mean\"].groupby([\"M Mode\",\"O Outcome\"])[\"ECmoj model\"].plot(legend=True)"
   ]
  },
  {
   "cell_type": "code",
   "execution_count": null,
   "metadata": {},
   "outputs": [],
   "source": [
    "crashes[crashes[\"J Location\"] == \"roadway\"][crashes[\"K estimate\"] == \"mean\"].groupby([\"M Mode\",\"O Outcome\"])[\"ECmoj model\"].plot(figsize=(15,10),legend=True)\n",
    "segments_alpha.groupby([\"Project ID\",\"mode\",\"outcome\"]).sum().groupby([\"mode\",\"outcome\"])[\"Crashes\"].plot(figsize=(15,10),legend=True)"
   ]
  },
  {
   "cell_type": "code",
   "execution_count": null,
   "metadata": {},
   "outputs": [],
   "source": [
    "intersections_alpha.groupby([\"Project ID\",\"mode\",\"outcome\"]).sum()[\"Crashes\"].plot()"
   ]
  },
  {
   "cell_type": "code",
   "execution_count": null,
   "metadata": {},
   "outputs": [],
   "source": [
    "crashes[crashes[\"J Location\"] == \"intersection\"][crashes[\"K estimate\"] == \"mean\"][\"ECmoj model\"].plot()"
   ]
  },
  {
   "cell_type": "code",
   "execution_count": null,
   "metadata": {},
   "outputs": [],
   "source": [
    ".groupby([\"M Mode\",\"O Outcome\"])\n",
    ".groupby([\"mode\",\"outcome\"])\n",
    "\n",
    "[\"ECmoj model\"].plot(figsize=(15,10),legend=True)\n",
    "\n",
    "[\"Crashes\"].plot(figsize=(15,10),legend=True)"
   ]
  }
 ],
 "metadata": {
  "kernelspec": {
   "display_name": "Python 3",
   "language": "python",
   "name": "python3"
  },
  "language_info": {
   "codemirror_mode": {
    "name": "ipython",
    "version": 3
   },
   "file_extension": ".py",
   "mimetype": "text/x-python",
   "name": "python",
   "nbconvert_exporter": "python",
   "pygments_lexer": "ipython3",
   "version": "3.8.3"
  }
 },
 "nbformat": 4,
 "nbformat_minor": 4
}
