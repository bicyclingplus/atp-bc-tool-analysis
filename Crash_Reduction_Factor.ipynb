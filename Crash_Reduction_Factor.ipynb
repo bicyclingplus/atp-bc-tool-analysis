{
 "cells": [
  {
   "cell_type": "code",
   "execution_count": null,
   "metadata": {},
   "outputs": [],
   "source": [
    "import numpy as np\n",
    "import pandas as pd"
   ]
  },
  {
   "cell_type": "code",
   "execution_count": null,
   "metadata": {},
   "outputs": [],
   "source": [
    "existing_crashes = pd.read_csv('output_2023_09_05/reports/safety-4-combined-b-crashes-all.csv')\n",
    "infrastructure = pd.read_csv('output_2023_09_05/reports/overall-4-infrastructure-safety.csv')\n",
    "infrastructure_volume_changes = pd.read_csv('output_2023_09_05/lookups/per_element_travel_adjustments.csv')"
   ]
  },
  {
   "cell_type": "code",
   "execution_count": null,
   "metadata": {
    "scrolled": true
   },
   "outputs": [],
   "source": [
    "# Only model -> model for consistency (since this isn't using the modified equation)\n",
    "existing_crashes[\"Model_change\"] = existing_crashes[\"NCmojk\"] - existing_crashes[\"ECmoj model\"]"
   ]
  },
  {
   "cell_type": "code",
   "execution_count": null,
   "metadata": {},
   "outputs": [],
   "source": [
    "#CRFmojk = existing_crashes[\"CRFmojk\"]\n",
    "existing_crashes[existing_crashes[\"K estimate\"]==\"mean\"].groupby([\"M Mode\",\"J Location\"]).plot(y=[\"Model_change\",\"CRFmojk\"],legend=True)"
   ]
  },
  {
   "cell_type": "code",
   "execution_count": null,
   "metadata": {},
   "outputs": [],
   "source": [
    "# Compare both model change and crf for bicycling and walking\n",
    "existing_crashes[existing_crashes[\"M Mode\"]==\"bicycling\"].groupby([\"J Location\"]).plot(y=[\"Model_change\",\"CRFmojk\"],legend=True)\n",
    "existing_crashes[existing_crashes[\"M Mode\"]==\"walking\"].groupby([\"J Location\"]).plot(y=[\"Model_change\",\"CRFmojk\"],legend=True)"
   ]
  },
  {
   "cell_type": "code",
   "execution_count": null,
   "metadata": {},
   "outputs": [],
   "source": [
    "existing_crashes[existing_crashes[\"M Mode\"]==\"bicycling\"].groupby([\"J Location\"])[\"Model_change\"].plot(legend=True)"
   ]
  },
  {
   "cell_type": "code",
   "execution_count": null,
   "metadata": {},
   "outputs": [],
   "source": [
    "existing_crashes[existing_crashes[\"M Mode\"]==\"walking\"].groupby([\"J Location\"])[\"Model_change\"].plot(legend=True)"
   ]
  },
  {
   "cell_type": "code",
   "execution_count": null,
   "metadata": {},
   "outputs": [],
   "source": [
    "## the question is then, does this affect the overall increases?\n",
    "existing_crashes[existing_crashes[\"K estimate\"]==\"mean\"].groupby([\"M Mode\",\"J Location\"]).plot(y=[\"Model_change\",\"CRFmojk\"],legend=True)"
   ]
  },
  {
   "cell_type": "code",
   "execution_count": null,
   "metadata": {},
   "outputs": [],
   "source": [
    "# how does CRF affect the total crash change?\n",
    "# total_crashes = existing_crashes.groupby([\"Project ID\",\"M Mode\",\"O Outcome\",\"K estimate\"])[\"Model_change\"].sum()\n",
    "# pd.merge(existing_crashes,total_crashes,on=[\"Project ID\",\"M Mode\",\"O Outcome\",\"K estimate\"])"
   ]
  },
  {
   "cell_type": "code",
   "execution_count": null,
   "metadata": {},
   "outputs": [],
   "source": [
    "total_crashes = existing_crashes.groupby([\"Project ID\",\"M Mode\",\"O Outcome\",\"K estimate\"])[\"Model_change\"].sum()\n",
    "pd.merge(existing_crashes,total_crashes,on=[\"Project ID\",\"M Mode\",\"O Outcome\",\"K estimate\"]).groupby([\"J Location\",\"M Mode\"]).plot.scatter(\"CRFmojk\",\"Model_change_y\")"
   ]
  },
  {
   "cell_type": "code",
   "execution_count": null,
   "metadata": {},
   "outputs": [],
   "source": [
    "# Later - start looking at combinations between the volume increase and crashes decrease\n",
    "# infrastructure_volume_changes_rename=infrastructure_volume_changes.rename(columns={\"element\":\"Infrastructure type\"})\n",
    "# pd.merge(infrastructure,infrastructure_volume_changes_rename,on=\"Infrastructure type\")[\"mean adjustment (%)\"].plot()"
   ]
  }
 ],
 "metadata": {
  "kernelspec": {
   "display_name": "Python 3",
   "language": "python",
   "name": "python3"
  },
  "language_info": {
   "codemirror_mode": {
    "name": "ipython",
    "version": 3
   },
   "file_extension": ".py",
   "mimetype": "text/x-python",
   "name": "python",
   "nbconvert_exporter": "python",
   "pygments_lexer": "ipython3",
   "version": "3.8.3"
  }
 },
 "nbformat": 4,
 "nbformat_minor": 4
}
