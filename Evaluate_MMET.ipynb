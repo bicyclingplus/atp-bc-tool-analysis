{
 "cells": [
  {
   "cell_type": "code",
   "execution_count": null,
   "metadata": {},
   "outputs": [],
   "source": [
    "import numpy as np\n",
    "import pandas as pd\n",
    "\n",
    "mar_26 = pd.read_csv('2024_03_26_reports_peter.csv')"
   ]
  },
  {
   "cell_type": "code",
   "execution_count": null,
   "metadata": {},
   "outputs": [],
   "source": [
    "# Current output\n",
    "mar_26['MMET Increase'].sum()"
   ]
  },
  {
   "cell_type": "markdown",
   "metadata": {},
   "source": [
    "Based on the current equation, this should just be the total active miles traveled (without the route shift fraction) * MMET per hour / miles per hour"
   ]
  },
  {
   "cell_type": "markdown",
   "metadata": {},
   "source": [
    "Constants from 'constants.js' (in the tool github):\n",
    "1. Route shift constant\n",
    "  - bicycling: 58.81,\n",
    "  - walking: 7.73,\n",
    "2. MMET per hour constant\n",
    "  - bicycling:\n",
    "    - lower: 2.5,\n",
    "    - mean: 4.8,\n",
    "    - upper: 9.0,\n",
    "  - walking:\n",
    "    - lower: 2.0,\n",
    "    - mean: 2.5,\n",
    "    - upper: 7.0,\n",
    "3. miles per hour (speed) constant\n",
    "  - bicycling:\n",
    "    - lower: 5.5,\n",
    "    - mean: 10.0,\n",
    "    - upper: 15.0,\n",
    "  - walking:\n",
    "    - lower: 1.5,\n",
    "    - mean: 3.0,\n",
    "    - upper: 4.5,"
   ]
  },
  {
   "cell_type": "code",
   "execution_count": null,
   "metadata": {},
   "outputs": [],
   "source": [
    "# Total increase in active transportation miles traveled\n",
    "(mar_26['BMT (Total)']+mar_26['WMT (Total)']).sum()"
   ]
  },
  {
   "cell_type": "code",
   "execution_count": null,
   "metadata": {},
   "outputs": [],
   "source": [
    "# Bike total added travel\n",
    "mar_26['BMT (Total)'].sum()"
   ]
  },
  {
   "cell_type": "code",
   "execution_count": null,
   "metadata": {},
   "outputs": [],
   "source": [
    "# Bike non-route shift added travel\n",
    "((mar_26['BMT (Total)']).sum())*(100-58.81)/100"
   ]
  },
  {
   "cell_type": "code",
   "execution_count": null,
   "metadata": {},
   "outputs": [],
   "source": [
    "# Bike MMET\n",
    "((mar_26['BMT (Total)']).sum())*((100-58.81)/100)*(4.8/10)"
   ]
  },
  {
   "cell_type": "code",
   "execution_count": null,
   "metadata": {},
   "outputs": [],
   "source": [
    "# Walk total added travel\n",
    "mar_26['WMT (Total)'].sum()"
   ]
  },
  {
   "cell_type": "code",
   "execution_count": null,
   "metadata": {},
   "outputs": [],
   "source": [
    "# Walk non-route shift added travel\n",
    "((mar_26['WMT (Total)']).sum())*(100-7.73)/100"
   ]
  },
  {
   "cell_type": "code",
   "execution_count": null,
   "metadata": {},
   "outputs": [],
   "source": [
    "# Walk MMET\n",
    "((mar_26['WMT (Total)']).sum())*((100-7.73)/100)*(2.5/3)"
   ]
  },
  {
   "cell_type": "code",
   "execution_count": null,
   "metadata": {},
   "outputs": [],
   "source": [
    "# Total MMET\n",
    "(((mar_26['BMT (Total)']).sum())*(100-58.81)/100*4.8/10) + (((mar_26['WMT (Total)']).sum())*(100-7.73)/100*2.5/3)"
   ]
  },
  {
   "cell_type": "markdown",
   "metadata": {},
   "source": [
    "Wow, this is MUCH lower. What is the difference?"
   ]
  },
  {
   "cell_type": "code",
   "execution_count": null,
   "metadata": {},
   "outputs": [],
   "source": [
    "(mar_26['MMET Increase'].sum())/(((mar_26['BMT (Total)']).sum())*(100-58.81)/100*4.8/10) + (((mar_26['WMT (Total)']).sum())*(100-7.73)/100*2.5/3)"
   ]
  },
  {
   "cell_type": "markdown",
   "metadata": {},
   "source": [
    "43,000 times larger?! Something definitely seems very off here..."
   ]
  },
  {
   "cell_type": "markdown",
   "metadata": {},
   "source": [
    "Let's calculate individually for each project and compare to the actual output"
   ]
  },
  {
   "cell_type": "code",
   "execution_count": null,
   "metadata": {},
   "outputs": [],
   "source": [
    "mar_26['MMET_test_walk'] = mar_26['WMT (Total)']*((100-7.73)/100)*(2.5/3)\n",
    "mar_26['MMET_test_bike'] = mar_26['BMT (Total)']*((100-58.81)/100)*(4.8/10)\n",
    "mar_26['MMET_test_total'] = mar_26['MMET_test_walk']+mar_26['MMET_test_bike']"
   ]
  },
  {
   "cell_type": "code",
   "execution_count": null,
   "metadata": {},
   "outputs": [],
   "source": [
    "# Current calculations\n",
    "mar_26['MMET_test_total'].plot()"
   ]
  },
  {
   "cell_type": "code",
   "execution_count": null,
   "metadata": {},
   "outputs": [],
   "source": [
    "# Tool output\n",
    "(mar_26['MMET Increase']).plot()"
   ]
  },
  {
   "cell_type": "markdown",
   "metadata": {},
   "source": [
    "The shape of the graph is basically identical, the scale is completely different. It looks pretty likely that there is some constant or conversion factor that is different between them."
   ]
  },
  {
   "cell_type": "code",
   "execution_count": null,
   "metadata": {},
   "outputs": [],
   "source": [
    "# Is it a constant ratio?\n",
    "mar_26['MMET Increase']/mar_26['MMET_test_total']"
   ]
  },
  {
   "cell_type": "code",
   "execution_count": null,
   "metadata": {},
   "outputs": [],
   "source": [
    "(mar_26['MMET Increase']/mar_26['MMET_test_total']).describe()"
   ]
  },
  {
   "cell_type": "markdown",
   "metadata": {},
   "source": [
    "Yes, the tool output is exactly 5158.887881 times larger than my calculations."
   ]
  },
  {
   "cell_type": "code",
   "execution_count": null,
   "metadata": {},
   "outputs": [],
   "source": [
    "# Guess: maybe part of this is being scaled over the 20 year project time frame?\n",
    "def discount(x):\n",
    "    discounted = 0\n",
    "    for i in range(1,21):\n",
    "        discounted += x/pow(1.04,i-1)\n",
    "    return(discounted)\n",
    "mar_26['MMET_test_total_20year']= discount(mar_26['MMET_test_total'])"
   ]
  },
  {
   "cell_type": "code",
   "execution_count": null,
   "metadata": {},
   "outputs": [],
   "source": [
    "# New ratio:\n",
    "(mar_26['MMET Increase']/mar_26['MMET_test_total_20year'])"
   ]
  },
  {
   "cell_type": "markdown",
   "metadata": {},
   "source": [
    "Oh, the new ratio is 365. So it looks like the constant is the conversion from the MMET in one day to one year and then to 20 years (with discount rate)."
   ]
  },
  {
   "cell_type": "code",
   "execution_count": null,
   "metadata": {},
   "outputs": [],
   "source": []
  }
 ],
 "metadata": {
  "kernelspec": {
   "display_name": "Python 3",
   "language": "python",
   "name": "python3"
  },
  "language_info": {
   "codemirror_mode": {
    "name": "ipython",
    "version": 3
   },
   "file_extension": ".py",
   "mimetype": "text/x-python",
   "name": "python",
   "nbconvert_exporter": "python",
   "pygments_lexer": "ipython3",
   "version": "3.8.3"
  }
 },
 "nbformat": 4,
 "nbformat_minor": 4
}
