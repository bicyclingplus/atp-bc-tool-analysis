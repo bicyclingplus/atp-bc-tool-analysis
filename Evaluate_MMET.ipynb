{
 "cells": [
  {
   "cell_type": "code",
   "execution_count": 29,
   "metadata": {},
   "outputs": [],
   "source": [
    "import numpy as np\n",
    "import pandas as pd\n",
    "\n",
    "mar_26 = pd.read_csv('2024_03_26_reports_peter.csv')"
   ]
  },
  {
   "cell_type": "code",
   "execution_count": 30,
   "metadata": {},
   "outputs": [
    {
     "data": {
      "text/plain": [
       "387666170.79919463"
      ]
     },
     "execution_count": 30,
     "metadata": {},
     "output_type": "execute_result"
    }
   ],
   "source": [
    "# Current output\n",
    "mar_26['MMET Increase'].sum()"
   ]
  },
  {
   "cell_type": "markdown",
   "metadata": {},
   "source": [
    "Based on the current equation, this should just be the total active miles traveled (without the route shift fraction) * MMET per hour / miles per hour"
   ]
  },
  {
   "cell_type": "markdown",
   "metadata": {},
   "source": [
    "Constants from 'constants.js' (in the tool github):\n",
    "1. Route shift constant\n",
    "  - bicycling: 58.81,\n",
    "  - walking: 7.73,\n",
    "2. MMET per hour constant\n",
    "  - bicycling:\n",
    "    - lower: 2.5,\n",
    "    - mean: 4.8,\n",
    "    - upper: 9.0,\n",
    "  - walking:\n",
    "    - lower: 2.0,\n",
    "    - mean: 2.5,\n",
    "    - upper: 7.0,\n",
    "3. miles per hour (speed) constant\n",
    "  - bicycling:\n",
    "    - lower: 5.5,\n",
    "    - mean: 10.0,\n",
    "    - upper: 15.0,\n",
    "  - walking:\n",
    "    - lower: 1.5,\n",
    "    - mean: 3.0,\n",
    "    - upper: 4.5,"
   ]
  },
  {
   "cell_type": "code",
   "execution_count": 10,
   "metadata": {},
   "outputs": [
    {
     "data": {
      "text/plain": [
       "247219.87334533088"
      ]
     },
     "execution_count": 10,
     "metadata": {},
     "output_type": "execute_result"
    }
   ],
   "source": [
    "# Total increase in active transportation miles traveled\n",
    "(mar_26['BMT (Total)']+mar_26['WMT (Total)']).sum()"
   ]
  },
  {
   "cell_type": "code",
   "execution_count": 35,
   "metadata": {},
   "outputs": [
    {
     "data": {
      "text/plain": [
       "207984.8272344661"
      ]
     },
     "execution_count": 35,
     "metadata": {},
     "output_type": "execute_result"
    }
   ],
   "source": [
    "# Bike total added travel\n",
    "mar_26['BMT (Total)'].sum()"
   ]
  },
  {
   "cell_type": "code",
   "execution_count": 23,
   "metadata": {},
   "outputs": [
    {
     "data": {
      "text/plain": [
       "85668.95033787658"
      ]
     },
     "execution_count": 23,
     "metadata": {},
     "output_type": "execute_result"
    }
   ],
   "source": [
    "# Bike non-route shift added travel\n",
    "((mar_26['BMT (Total)']).sum())*(100-58.81)/100"
   ]
  },
  {
   "cell_type": "code",
   "execution_count": 33,
   "metadata": {},
   "outputs": [
    {
     "data": {
      "text/plain": [
       "41121.09616218076"
      ]
     },
     "execution_count": 33,
     "metadata": {},
     "output_type": "execute_result"
    }
   ],
   "source": [
    "# Bike MMET\n",
    "((mar_26['BMT (Total)']).sum())*((100-58.81)/100)*(4.8/10)"
   ]
  },
  {
   "cell_type": "code",
   "execution_count": 36,
   "metadata": {},
   "outputs": [
    {
     "data": {
      "text/plain": [
       "44110.917129877795"
      ]
     },
     "execution_count": 36,
     "metadata": {},
     "output_type": "execute_result"
    }
   ],
   "source": [
    "# Walk total added travel\n",
    "mar_26['WMT (Total)'].sum()"
   ]
  },
  {
   "cell_type": "code",
   "execution_count": 25,
   "metadata": {},
   "outputs": [
    {
     "data": {
      "text/plain": [
       "40701.143235738244"
      ]
     },
     "execution_count": 25,
     "metadata": {},
     "output_type": "execute_result"
    }
   ],
   "source": [
    "# Walk non-route shift added travel\n",
    "((mar_26['WMT (Total)']).sum())*(100-7.73)/100"
   ]
  },
  {
   "cell_type": "code",
   "execution_count": 34,
   "metadata": {},
   "outputs": [
    {
     "data": {
      "text/plain": [
       "33917.6193631152"
      ]
     },
     "execution_count": 34,
     "metadata": {},
     "output_type": "execute_result"
    }
   ],
   "source": [
    "# Walk MMET\n",
    "((mar_26['WMT (Total)']).sum())*((100-7.73)/100)*(2.5/3)"
   ]
  },
  {
   "cell_type": "code",
   "execution_count": 31,
   "metadata": {},
   "outputs": [
    {
     "data": {
      "text/plain": [
       "75038.71552529596"
      ]
     },
     "execution_count": 31,
     "metadata": {},
     "output_type": "execute_result"
    }
   ],
   "source": [
    "# Total MMET\n",
    "(((mar_26['BMT (Total)']).sum())*(100-58.81)/100*4.8/10) + (((mar_26['WMT (Total)']).sum())*(100-7.73)/100*2.5/3)"
   ]
  },
  {
   "cell_type": "markdown",
   "metadata": {},
   "source": [
    "Wow, this is MUCH lower. What is the difference?"
   ]
  },
  {
   "cell_type": "code",
   "execution_count": 32,
   "metadata": {},
   "outputs": [
    {
     "data": {
      "text/plain": [
       "43345.04730108279"
      ]
     },
     "execution_count": 32,
     "metadata": {},
     "output_type": "execute_result"
    }
   ],
   "source": [
    "(mar_26['MMET Increase'].sum())/(((mar_26['BMT (Total)']).sum())*(100-58.81)/100*4.8/10) + (((mar_26['WMT (Total)']).sum())*(100-7.73)/100*2.5/3)"
   ]
  },
  {
   "cell_type": "markdown",
   "metadata": {},
   "source": [
    "43,000 times larger?! Something definitely seems very off here..."
   ]
  }
 ],
 "metadata": {
  "kernelspec": {
   "display_name": "Python 3",
   "language": "python",
   "name": "python3"
  },
  "language_info": {
   "codemirror_mode": {
    "name": "ipython",
    "version": 3
   },
   "file_extension": ".py",
   "mimetype": "text/x-python",
   "name": "python",
   "nbconvert_exporter": "python",
   "pygments_lexer": "ipython3",
   "version": "3.8.3"
  }
 },
 "nbformat": 4,
 "nbformat_minor": 4
}
