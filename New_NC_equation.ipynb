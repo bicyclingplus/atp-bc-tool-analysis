{
 "cells": [
  {
   "cell_type": "markdown",
   "metadata": {},
   "source": [
    "This notebook will calculate new crashes based only on existing crashes, so it is consistent with whatever type/source of existing crash data the tool uses, and is not dependent on the current implementation of the crashes model\n",
    "\n",
    "This is the equation being implemented:\n",
    "$NC_{cmojk}=EC_{cmoj} * (1 + \\sum_{i}\\sum_{F}E_{ik} * \\frac{Ni}{L} * I_{F})^{p}*CRF_{mojk}$"
   ]
  },
  {
   "cell_type": "code",
   "execution_count": 1,
   "metadata": {},
   "outputs": [],
   "source": [
    "import numpy as np\n",
    "import pandas as pd"
   ]
  },
  {
   "cell_type": "code",
   "execution_count": 2,
   "metadata": {},
   "outputs": [
    {
     "data": {
      "text/html": [
       "<div>\n",
       "<style scoped>\n",
       "    .dataframe tbody tr th:only-of-type {\n",
       "        vertical-align: middle;\n",
       "    }\n",
       "\n",
       "    .dataframe tbody tr th {\n",
       "        vertical-align: top;\n",
       "    }\n",
       "\n",
       "    .dataframe thead th {\n",
       "        text-align: right;\n",
       "    }\n",
       "</style>\n",
       "<table border=\"1\" class=\"dataframe\">\n",
       "  <thead>\n",
       "    <tr style=\"text-align: right;\">\n",
       "      <th></th>\n",
       "      <th>Project ID</th>\n",
       "      <th>M Mode</th>\n",
       "      <th>O Outcome</th>\n",
       "      <th>J Location</th>\n",
       "      <th>User inputted crashes UImoj</th>\n",
       "      <th>ECmoj with user input</th>\n",
       "      <th>ECmoj split</th>\n",
       "      <th>ECmoj model</th>\n",
       "      <th>K estimate</th>\n",
       "      <th>CRFmojk</th>\n",
       "      <th>NCmojk</th>\n",
       "    </tr>\n",
       "  </thead>\n",
       "  <tbody>\n",
       "    <tr>\n",
       "      <th>0</th>\n",
       "      <td>648253949d68d91158e2ea55</td>\n",
       "      <td>bicycling</td>\n",
       "      <td>crash</td>\n",
       "      <td>intersection</td>\n",
       "      <td>14.0</td>\n",
       "      <td>2.8</td>\n",
       "      <td>25.2</td>\n",
       "      <td>15.524892</td>\n",
       "      <td>lower</td>\n",
       "      <td>1.000000</td>\n",
       "      <td>17.077381</td>\n",
       "    </tr>\n",
       "    <tr>\n",
       "      <th>1</th>\n",
       "      <td>648253949d68d91158e2ea55</td>\n",
       "      <td>bicycling</td>\n",
       "      <td>crash</td>\n",
       "      <td>intersection</td>\n",
       "      <td>14.0</td>\n",
       "      <td>2.8</td>\n",
       "      <td>25.2</td>\n",
       "      <td>15.524892</td>\n",
       "      <td>mean</td>\n",
       "      <td>1.000000</td>\n",
       "      <td>21.734848</td>\n",
       "    </tr>\n",
       "    <tr>\n",
       "      <th>2</th>\n",
       "      <td>648253949d68d91158e2ea55</td>\n",
       "      <td>bicycling</td>\n",
       "      <td>crash</td>\n",
       "      <td>intersection</td>\n",
       "      <td>14.0</td>\n",
       "      <td>2.8</td>\n",
       "      <td>25.2</td>\n",
       "      <td>15.524892</td>\n",
       "      <td>upper</td>\n",
       "      <td>1.000000</td>\n",
       "      <td>25.557197</td>\n",
       "    </tr>\n",
       "    <tr>\n",
       "      <th>3</th>\n",
       "      <td>648253949d68d91158e2ea55</td>\n",
       "      <td>bicycling</td>\n",
       "      <td>crash</td>\n",
       "      <td>roadway</td>\n",
       "      <td>2.0</td>\n",
       "      <td>0.4</td>\n",
       "      <td>3.6</td>\n",
       "      <td>0.240298</td>\n",
       "      <td>lower</td>\n",
       "      <td>0.695556</td>\n",
       "      <td>0.183854</td>\n",
       "    </tr>\n",
       "    <tr>\n",
       "      <th>4</th>\n",
       "      <td>648253949d68d91158e2ea55</td>\n",
       "      <td>bicycling</td>\n",
       "      <td>crash</td>\n",
       "      <td>roadway</td>\n",
       "      <td>2.0</td>\n",
       "      <td>0.4</td>\n",
       "      <td>3.6</td>\n",
       "      <td>0.240298</td>\n",
       "      <td>mean</td>\n",
       "      <td>0.397778</td>\n",
       "      <td>0.133819</td>\n",
       "    </tr>\n",
       "    <tr>\n",
       "      <th>...</th>\n",
       "      <td>...</td>\n",
       "      <td>...</td>\n",
       "      <td>...</td>\n",
       "      <td>...</td>\n",
       "      <td>...</td>\n",
       "      <td>...</td>\n",
       "      <td>...</td>\n",
       "      <td>...</td>\n",
       "      <td>...</td>\n",
       "      <td>...</td>\n",
       "      <td>...</td>\n",
       "    </tr>\n",
       "    <tr>\n",
       "      <th>10039</th>\n",
       "      <td>64e4faa1cb0d64389a5ea129</td>\n",
       "      <td>combined</td>\n",
       "      <td>death</td>\n",
       "      <td>intersection</td>\n",
       "      <td>NaN</td>\n",
       "      <td>NaN</td>\n",
       "      <td>NaN</td>\n",
       "      <td>1.074715</td>\n",
       "      <td>mean</td>\n",
       "      <td>0.982491</td>\n",
       "      <td>1.085667</td>\n",
       "    </tr>\n",
       "    <tr>\n",
       "      <th>10040</th>\n",
       "      <td>64e4faa1cb0d64389a5ea129</td>\n",
       "      <td>combined</td>\n",
       "      <td>death</td>\n",
       "      <td>intersection</td>\n",
       "      <td>NaN</td>\n",
       "      <td>NaN</td>\n",
       "      <td>NaN</td>\n",
       "      <td>1.074715</td>\n",
       "      <td>upper</td>\n",
       "      <td>0.954476</td>\n",
       "      <td>1.075337</td>\n",
       "    </tr>\n",
       "    <tr>\n",
       "      <th>10041</th>\n",
       "      <td>64e4faa1cb0d64389a5ea129</td>\n",
       "      <td>combined</td>\n",
       "      <td>death</td>\n",
       "      <td>roadway</td>\n",
       "      <td>NaN</td>\n",
       "      <td>NaN</td>\n",
       "      <td>NaN</td>\n",
       "      <td>0.095171</td>\n",
       "      <td>lower</td>\n",
       "      <td>0.643056</td>\n",
       "      <td>0.061621</td>\n",
       "    </tr>\n",
       "    <tr>\n",
       "      <th>10042</th>\n",
       "      <td>64e4faa1cb0d64389a5ea129</td>\n",
       "      <td>combined</td>\n",
       "      <td>death</td>\n",
       "      <td>roadway</td>\n",
       "      <td>NaN</td>\n",
       "      <td>NaN</td>\n",
       "      <td>NaN</td>\n",
       "      <td>0.095171</td>\n",
       "      <td>mean</td>\n",
       "      <td>0.300278</td>\n",
       "      <td>0.029301</td>\n",
       "    </tr>\n",
       "    <tr>\n",
       "      <th>10043</th>\n",
       "      <td>64e4faa1cb0d64389a5ea129</td>\n",
       "      <td>combined</td>\n",
       "      <td>death</td>\n",
       "      <td>roadway</td>\n",
       "      <td>NaN</td>\n",
       "      <td>NaN</td>\n",
       "      <td>NaN</td>\n",
       "      <td>0.095171</td>\n",
       "      <td>upper</td>\n",
       "      <td>0.010000</td>\n",
       "      <td>0.000993</td>\n",
       "    </tr>\n",
       "  </tbody>\n",
       "</table>\n",
       "<p>10044 rows × 11 columns</p>\n",
       "</div>"
      ],
      "text/plain": [
       "                     Project ID     M Mode O Outcome    J Location  \\\n",
       "0      648253949d68d91158e2ea55  bicycling     crash  intersection   \n",
       "1      648253949d68d91158e2ea55  bicycling     crash  intersection   \n",
       "2      648253949d68d91158e2ea55  bicycling     crash  intersection   \n",
       "3      648253949d68d91158e2ea55  bicycling     crash       roadway   \n",
       "4      648253949d68d91158e2ea55  bicycling     crash       roadway   \n",
       "...                         ...        ...       ...           ...   \n",
       "10039  64e4faa1cb0d64389a5ea129   combined     death  intersection   \n",
       "10040  64e4faa1cb0d64389a5ea129   combined     death  intersection   \n",
       "10041  64e4faa1cb0d64389a5ea129   combined     death       roadway   \n",
       "10042  64e4faa1cb0d64389a5ea129   combined     death       roadway   \n",
       "10043  64e4faa1cb0d64389a5ea129   combined     death       roadway   \n",
       "\n",
       "       User inputted crashes UImoj  ECmoj with user input  ECmoj split  \\\n",
       "0                             14.0                    2.8         25.2   \n",
       "1                             14.0                    2.8         25.2   \n",
       "2                             14.0                    2.8         25.2   \n",
       "3                              2.0                    0.4          3.6   \n",
       "4                              2.0                    0.4          3.6   \n",
       "...                            ...                    ...          ...   \n",
       "10039                          NaN                    NaN          NaN   \n",
       "10040                          NaN                    NaN          NaN   \n",
       "10041                          NaN                    NaN          NaN   \n",
       "10042                          NaN                    NaN          NaN   \n",
       "10043                          NaN                    NaN          NaN   \n",
       "\n",
       "       ECmoj model K estimate   CRFmojk     NCmojk  \n",
       "0        15.524892      lower  1.000000  17.077381  \n",
       "1        15.524892       mean  1.000000  21.734848  \n",
       "2        15.524892      upper  1.000000  25.557197  \n",
       "3         0.240298      lower  0.695556   0.183854  \n",
       "4         0.240298       mean  0.397778   0.133819  \n",
       "...            ...        ...       ...        ...  \n",
       "10039     1.074715       mean  0.982491   1.085667  \n",
       "10040     1.074715      upper  0.954476   1.075337  \n",
       "10041     0.095171      lower  0.643056   0.061621  \n",
       "10042     0.095171       mean  0.300278   0.029301  \n",
       "10043     0.095171      upper  0.010000   0.000993  \n",
       "\n",
       "[10044 rows x 11 columns]"
      ]
     },
     "execution_count": 2,
     "metadata": {},
     "output_type": "execute_result"
    }
   ],
   "source": [
    "existing_crashes = pd.read_csv('output_2023_09_05/reports/safety-4-combined-b-crashes-all.csv')\n",
    "infrastructure = pd.read_csv('output_2023_09_05/reports/overall-4-infrastructure-safety.csv')\n",
    "infrastructure_volume_changes = pd.read_csv('output_2023_09_05/lookups/per_element_travel_adjustments.csv')"
   ]
  },
  {
   "cell_type": "code",
   "execution_count": 3,
   "metadata": {
    "scrolled": true
   },
   "outputs": [],
   "source": [
    "## Pull out the required variables: element, crashes volume increase per element, element share, improvement type, CRF\n",
    "CRFmojk = existing_crashes[\"CRFmojk\"]\n",
    "element = infrastructure[\"Infrastructure type\"]\n",
    "element = \"conventional-bike-lane\"\n",
    "share = infrastructure[\"Project share\"]\n",
    "## Fix later"
   ]
  },
  {
   "cell_type": "code",
   "execution_count": 4,
   "metadata": {},
   "outputs": [
    {
     "data": {
      "text/plain": [
       "124"
      ]
     },
     "execution_count": 4,
     "metadata": {},
     "output_type": "execute_result"
    }
   ],
   "source": [
    "## testing\n",
    "volume_change = infrastructure_volume_changes[infrastructure_volume_changes[\"element\"] == element]\n",
    "volume_change.reset_index().at[0,\"mean adjustment (%)\"]"
   ]
  },
  {
   "cell_type": "code",
   "execution_count": 74,
   "metadata": {},
   "outputs": [],
   "source": [
    "## Define the function\n",
    "## have to iterate through all infrastructure for the one project ID\n",
    "def new_NC(Project_ID, Estimate, EC, CRF):\n",
    "    project_elements = infrastructure[infrastructure[\"Project ID\"] == Project_ID]\n",
    "    ##print(project_elements)\n",
    "    volume_change_factor = 1\n",
    "    for index, element in project_elements.iterrows():\n",
    "        element_name = element[\"Infrastructure type\"]\n",
    "        ##print(element_name)\n",
    "        share = element[\"Project share\"]\n",
    "        ##print(\"share is %s\"% share)\n",
    "        improvement_type = element[\"Improvement type\"]\n",
    "        ##print(\"improvement type is %s\"% improvement_type)\n",
    "        if improvement_type == \"retrofit\":\n",
    "            improvement_factor = 0.1\n",
    "        else:\n",
    "            improvement_factor = 1\n",
    "        ##if element_name in infrastructure_volume_changes[\"element\"]:\n",
    "        sel_volume_change = infrastructure_volume_changes[infrastructure_volume_changes[\"element\"] == element_name]\n",
    "        ##print(\"the length of sel_volume_change is: %s\"% len(sel_volume_change))\n",
    "        if len(sel_volume_change) == 0:\n",
    "            volume_change = 0\n",
    "            ##print(\"no sel_volume\")\n",
    "        else:\n",
    "            ##print(\"sel_volume_change is %s\"% sel_volume_change)\n",
    "            volume_change = (sel_volume_change.reset_index().at[0, Estimate + \" adjustment (%)\"])/100\n",
    "            ##print(\"volume_change\")\n",
    "        volume_change_factor += volume_change * share * improvement_factor\n",
    "        ##print(\"volume_change_factor is %s\"% volume_change_factor)\n",
    "    ## volume change factor raised to \"safety in numbers\" power\n",
    "    volume_change_factor = (volume_change_factor)**0.5\n",
    "    NC = EC * volume_change_factor * CRF\n",
    "    return NC\n",
    "## I know this is not going to work because pandas iterates over columns, not rows, but just sketching out an idea\n",
    "## Terrible and messy code\n",
    "## Fix later - this is not the final implementation for the tool anyway, just testing to see if the equation improves the results"
   ]
  },
  {
   "cell_type": "code",
   "execution_count": 78,
   "metadata": {
    "scrolled": false
   },
   "outputs": [],
   "source": [
    "def apply_new_NC(element):\n",
    "    Project_ID = element[\"Project ID\"]\n",
    "    EC = element[\"ECmoj model\"]\n",
    "    Estimate = element[\"K estimate\"]\n",
    "    CRF = element[\"CRFmojk\"]\n",
    "    NC = new_NC(Project_ID,Estimate,EC,CRF)\n",
    "    return(NC)"
   ]
  },
  {
   "cell_type": "code",
   "execution_count": 79,
   "metadata": {},
   "outputs": [],
   "source": [
    "for index, row in existing_crashes.iterrows():\n",
    "    existing_crashes.at[index,\"new_NC\"] = apply_new_NC(row)\n",
    "## existing_crashes.apply(apply_new_NC, 'columns', 'expand')"
   ]
  },
  {
   "cell_type": "code",
   "execution_count": 99,
   "metadata": {
    "scrolled": true
   },
   "outputs": [
    {
     "data": {
      "text/plain": [
       "<matplotlib.axes._subplots.AxesSubplot at 0x7f83ad4f2b20>"
      ]
     },
     "execution_count": 99,
     "metadata": {},
     "output_type": "execute_result"
    },
    {
     "data": {
      "image/png": "[encoded data removed]",
      "text/plain": [
       "<Figure size 432x288 with 1 Axes>"
      ]
     },
     "metadata": {
      "needs_background": "light"
     },
     "output_type": "display_data"
    }
   ],
   "source": [
    "## Validate that these are equal?\n",
    "(existing_crashes[\"new_NC\"]-existing_crashes[\"NCmojk\"]).plot()\n",
    "## some weird stuff going on here\n",
    "## Maybe errors with how one or the other was calculated"
   ]
  },
  {
   "cell_type": "code",
   "execution_count": 100,
   "metadata": {},
   "outputs": [
    {
     "data": {
      "text/plain": [
       "<matplotlib.axes._subplots.AxesSubplot at 0x7f83ad652b80>"
      ]
     },
     "execution_count": 100,
     "metadata": {},
     "output_type": "execute_result"
    },
    {
     "data": {
      "image/png": "[encoded data removed]",
      "text/plain": [
       "<Figure size 432x288 with 1 Axes>"
      ]
     },
     "metadata": {
      "needs_background": "light"
     },
     "output_type": "display_data"
    }
   ],
   "source": [
    "existing_crashes[\"new_NC\"].plot()"
   ]
  },
  {
   "cell_type": "code",
   "execution_count": 101,
   "metadata": {},
   "outputs": [
    {
     "data": {
      "text/plain": [
       "<matplotlib.axes._subplots.AxesSubplot at 0x7f83ad6ff790>"
      ]
     },
     "execution_count": 101,
     "metadata": {},
     "output_type": "execute_result"
    },
    {
     "data": {
      "image/png": "[encoded data removed]",
      "text/plain": [
       "<Figure size 432x288 with 1 Axes>"
      ]
     },
     "metadata": {
      "needs_background": "light"
     },
     "output_type": "display_data"
    }
   ],
   "source": [
    "existing_crashes[\"NCmojk\"].plot()"
   ]
  },
  {
   "cell_type": "code",
   "execution_count": 102,
   "metadata": {},
   "outputs": [
    {
     "data": {
      "text/plain": [
       "<matplotlib.axes._subplots.AxesSubplot at 0x7f83ad985a00>"
      ]
     },
     "execution_count": 102,
     "metadata": {},
     "output_type": "execute_result"
    },
    {
     "data": {
      "image/png": "[encoded data removed]",
      "text/plain": [
       "<Figure size 432x288 with 1 Axes>"
      ]
     },
     "metadata": {
      "needs_background": "light"
     },
     "output_type": "display_data"
    }
   ],
   "source": [
    "existing_crashes.plot(y=[\"NCmojk\",\"new_NC\"])"
   ]
  },
  {
   "cell_type": "code",
   "execution_count": null,
   "metadata": {},
   "outputs": [],
   "source": []
  }
 ],
 "metadata": {
  "kernelspec": {
   "display_name": "Python 3",
   "language": "python",
   "name": "python3"
  },
  "language_info": {
   "codemirror_mode": {
    "name": "ipython",
    "version": 3
   },
   "file_extension": ".py",
   "mimetype": "text/x-python",
   "name": "python",
   "nbconvert_exporter": "python",
   "pygments_lexer": "ipython3",
   "version": "3.8.3"
  }
 },
 "nbformat": 4,
 "nbformat_minor": 4
}
