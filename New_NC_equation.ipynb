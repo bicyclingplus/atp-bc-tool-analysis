{
 "cells": [
  {
   "cell_type": "markdown",
   "metadata": {},
   "source": [
    "This notebook will calculate new crashes based only on existing crashes, so it is consistent with whatever type/source of existing crash data the tool uses, and is not dependent on the current implementation of the crashes model\n",
    "\n",
    "This is the equation being implemented:\n",
    "$NC_{cmojk}=EC_{cmoj} * (1 + \\sum_{i}\\sum_{F}E_{ik} * \\frac{Ni}{L} * I_{F})^{p}*CRF_{mojk}$"
   ]
  },
  {
   "cell_type": "code",
   "execution_count": null,
   "metadata": {
    "scrolled": true
   },
   "outputs": [],
   "source": [
    "import numpy as np\n",
    "import pandas as pd"
   ]
  },
  {
   "cell_type": "code",
   "execution_count": null,
   "metadata": {
    "scrolled": false
   },
   "outputs": [],
   "source": [
    "existing_crashes = pd.read_csv('output_2023_09_05/reports/safety-4-combined-b-crashes-all.csv')\n",
    "infrastructure = pd.read_csv('output_2023_09_05/reports/overall-4-infrastructure-safety.csv')\n",
    "infrastructure_volume_changes = pd.read_csv('output_2023_09_05/lookups/per_element_travel_adjustments.csv')"
   ]
  },
  {
   "cell_type": "code",
   "execution_count": null,
   "metadata": {
    "scrolled": false
   },
   "outputs": [],
   "source": [
    "## Pull out the required variables: element, crashes volume increase per element, element share, improvement type, CRF\n",
    "CRFmojk = existing_crashes[\"CRFmojk\"]\n",
    "element = infrastructure[\"Infrastructure type\"]\n",
    "element = \"conventional-bike-lane\"\n",
    "share = infrastructure[\"Project share\"]\n",
    "## Fix later"
   ]
  },
  {
   "cell_type": "code",
   "execution_count": null,
   "metadata": {
    "scrolled": true
   },
   "outputs": [],
   "source": [
    "## testing\n",
    "volume_change = infrastructure_volume_changes[infrastructure_volume_changes[\"element\"] == element]\n",
    "volume_change.reset_index().at[0,\"mean adjustment (%)\"]"
   ]
  },
  {
   "cell_type": "code",
   "execution_count": null,
   "metadata": {
    "scrolled": true
   },
   "outputs": [],
   "source": [
    "## Define the function\n",
    "## have to iterate through all infrastructure for the one project ID\n",
    "def new_NC(Project_ID, Estimate, EC, CRF):\n",
    "    project_elements = infrastructure[infrastructure[\"Project ID\"] == Project_ID]\n",
    "    volume_change_factor = 1\n",
    "    for index, element in project_elements.iterrows():\n",
    "        element_name = element[\"Infrastructure type\"]\n",
    "        share = element[\"Project share\"]\n",
    "        improvement_type = element[\"Improvement type\"]\n",
    "        if improvement_type == \"retrofit\":\n",
    "            improvement_factor = 0.1\n",
    "        else:\n",
    "            improvement_factor = 1\n",
    "        sel_volume_change = infrastructure_volume_changes[infrastructure_volume_changes[\"element\"] == element_name]\n",
    "        if len(sel_volume_change) == 0:\n",
    "            volume_change = 0\n",
    "        else:\n",
    "            volume_change = (sel_volume_change.reset_index().at[0, Estimate + \" adjustment (%)\"])/100\n",
    "        volume_change_factor += volume_change * share * improvement_factor\n",
    "    ## volume change factor raised to \"safety in numbers\" power\n",
    "    volume_change_factor = (volume_change_factor)**0.5\n",
    "    NC = EC * volume_change_factor * CRF\n",
    "    return NC\n",
    "## I know this is not going to work because pandas iterates over columns, not rows, but just sketching out an idea\n",
    "## Terrible and messy code\n",
    "## Fix later - this is not the final implementation for the tool anyway, just testing to see if the equation improves the results"
   ]
  },
  {
   "cell_type": "code",
   "execution_count": null,
   "metadata": {
    "scrolled": true
   },
   "outputs": [],
   "source": [
    "def apply_new_NC(element,EC_type):\n",
    "    ## request the EC_type (eg what was used in the tool) to be added as a column to this table\n",
    "    ## then use whatever the tool used for the NC_new column\n",
    "    Project_ID = element[\"Project ID\"]\n",
    "    EC = element[\"ECmoj\" + EC_type]\n",
    "    Estimate = element[\"K estimate\"]\n",
    "    CRF = element[\"CRFmojk\"]\n",
    "    NC = new_NC(Project_ID,Estimate,EC,CRF)\n",
    "    return(NC)"
   ]
  },
  {
   "cell_type": "code",
   "execution_count": null,
   "metadata": {
    "scrolled": true
   },
   "outputs": [],
   "source": [
    "for index, row in existing_crashes.iterrows():\n",
    "    existing_crashes.at[index,\"NC_user\"] = apply_new_NC(row,\" with user input\")\n",
    "    existing_crashes.at[index,\"NC_model\"] = apply_new_NC(row,\" model\")"
   ]
  },
  {
   "cell_type": "markdown",
   "metadata": {},
   "source": [
    "### Calculate Crash Change"
   ]
  },
  {
   "cell_type": "code",
   "execution_count": null,
   "metadata": {
    "scrolled": true
   },
   "outputs": [],
   "source": [
    "## Calculate crash change: NC - EC for both model and user input (later add \"whatever the tool used\" version)\n",
    "existing_crashes[\"Change_user\"] = existing_crashes[\"NC_user\"] - existing_crashes[\"ECmoj with user input\"]\n",
    "existing_crashes[\"Change_model\"] = existing_crashes[\"NC_model\"] - existing_crashes[\"ECmoj model\"]"
   ]
  },
  {
   "cell_type": "code",
   "execution_count": null,
   "metadata": {
    "scrolled": true
   },
   "outputs": [],
   "source": [
    "total_crash_change = pd.read_csv('output_2023_09_05/reports/safety-4-combined-c-crashes-volume.csv')"
   ]
  },
  {
   "cell_type": "code",
   "execution_count": null,
   "metadata": {
    "scrolled": true
   },
   "outputs": [],
   "source": [
    "## Sum crashes by location type - maintain split by project, mode, outcome, estimate\n",
    "change_model_mok = existing_crashes.groupby([\"Project ID\",\"M Mode\",\"O Outcome\",\"K estimate\"])[\"Change_model\"].sum()\n",
    "change_user_mok = existing_crashes.groupby([\"Project ID\",\"M Mode\",\"O Outcome\",\"K estimate\"])[\"Change_user\"].sum()\n",
    "change_user_mok.loc[(\"644adafaab814ec4fdd30fab\",\"bicycling\",\"crash\",\"lower\")]"
   ]
  },
  {
   "cell_type": "code",
   "execution_count": null,
   "metadata": {
    "scrolled": true
   },
   "outputs": [],
   "source": [
    "## Try to add Crash_change_model and Crash_change_user to the total_crash_change table\n",
    "for index, row in total_crash_change.iterrows():\n",
    "    ## The set of characteristics for this project, mode, outcome, estimate\n",
    "    row_chars = (row[\"Project ID\"],row[\"M Mode\"],row[\"O Outcome\"],row[\"K Estimate\"])\n",
    "    ## The corresponding model and user crash changes (summed by location type in the previous cell)\n",
    "    total_crash_change.at[index,\"model_crash_change\"] = change_model_mok.loc[row_chars]\n",
    "    total_crash_change.at[index,\"user_crash_change\"] = change_user_mok.loc[row_chars]"
   ]
  },
  {
   "cell_type": "markdown",
   "metadata": {},
   "source": [
    "### Graphs of new NC vs old NC results"
   ]
  },
  {
   "cell_type": "code",
   "execution_count": null,
   "metadata": {
    "scrolled": false
   },
   "outputs": [],
   "source": [
    "## Validate that these are equal?\n",
    "(existing_crashes[\"NC_model\"]-existing_crashes[\"NCmojk\"]).plot()\n",
    "## some weird stuff going on here\n",
    "## Maybe errors with how one or the other was calculated\n",
    "existing_crashes[abs(existing_crashes[\"NC_model\"]-existing_crashes[\"NCmojk\"]) > 100]\n",
    "## Look at these projects somehow and try to figure out why they are so off"
   ]
  },
  {
   "cell_type": "code",
   "execution_count": null,
   "metadata": {
    "scrolled": false
   },
   "outputs": [],
   "source": [
    "(existing_crashes[\"NC_model\"]-existing_crashes[\"ECmoj with user input\"]).plot(figsize = (15,10), ylim=(-25,25))\n",
    "(existing_crashes[\"Change_model\"]).plot(figsize = (15,10), ylim=(-25,25))\n",
    "(existing_crashes[\"Change_user\"]).plot(figsize = (15,10), ylim=(-25,25))\n",
    "## The user-input -> user-input definitely looks the most reasonable - no more than a change in 25 crashes or so"
   ]
  },
  {
   "cell_type": "code",
   "execution_count": null,
   "metadata": {
    "scrolled": false
   },
   "outputs": [],
   "source": [
    "existing_crashes.plot(y=[\"ECmoj model\",\"NC_model\",\"ECmoj with user input\",\"NC_user\"], figsize = (15,10), ylim=(0,50))"
   ]
  },
  {
   "cell_type": "code",
   "execution_count": null,
   "metadata": {
    "scrolled": false
   },
   "outputs": [],
   "source": [
    "total_crash_change.plot(y=[\"Change in crashes\",\"model_crash_change\",\"user_crash_change\"],figsize = (15,10))"
   ]
  },
  {
   "cell_type": "code",
   "execution_count": null,
   "metadata": {
    "scrolled": true
   },
   "outputs": [],
   "source": [
    "## Which projects are now negative? (decrease in crashes)\n",
    "existing_crashes[existing_crashes[\"Change_user\"] < 0]\n",
    "## What proportion are now negative? (out of all projects)\n",
    "len(existing_crashes[existing_crashes[\"Change_user\"] < 0])/len(existing_crashes[existing_crashes[\"ECmoj with user input\"].notna()])"
   ]
  },
  {
   "cell_type": "code",
   "execution_count": null,
   "metadata": {
    "scrolled": true
   },
   "outputs": [],
   "source": [
    "existing_crashes[existing_crashes[\"Change_model\"] < 0]\n",
    "len(existing_crashes[(existing_crashes[\"Change_model\"]) < 0])/len(existing_crashes)"
   ]
  },
  {
   "cell_type": "code",
   "execution_count": null,
   "metadata": {
    "scrolled": false
   },
   "outputs": [],
   "source": [
    "## what proportion was originally negative?\n",
    "## (just in the original condition where the EC was user input, since that is what this new equation addresses)\n",
    "existing_crashes[existing_crashes[\"NCmojk\"]-existing_crashes[\"ECmoj with user input\"] < 0]\n",
    "len(existing_crashes[(existing_crashes[\"NCmojk\"]-existing_crashes[\"ECmoj with user input\"]) < 0])/len(existing_crashes[existing_crashes[\"ECmoj with user input\"].notna()])"
   ]
  },
  {
   "cell_type": "markdown",
   "metadata": {},
   "source": [
    "How did it get worse somehow??\n",
    "Maybe this will get better with the relative crash rates, since it probably has to do with the increases in volume (which are now actually being applied to the user based EC, while before they would be applied to the model based EC??)"
   ]
  },
  {
   "cell_type": "code",
   "execution_count": null,
   "metadata": {
    "scrolled": false
   },
   "outputs": [],
   "source": [
    "## Graph separated by mode and location type - look into this further later, there seems to be big disparities between bicycling roadway and walking roadway etc\n",
    "existing_crashes[\"Change_user\"].groupby([existing_crashes[\"J Location\"], existing_crashes[\"M Mode\"]]).plot(legend=\"true\",figsize = (15,10))"
   ]
  }
 ],
 "metadata": {
  "kernelspec": {
   "display_name": "Python 3",
   "language": "python",
   "name": "python3"
  },
  "language_info": {
   "codemirror_mode": {
    "name": "ipython",
    "version": 3
   },
   "file_extension": ".py",
   "mimetype": "text/x-python",
   "name": "python",
   "nbconvert_exporter": "python",
   "pygments_lexer": "ipython3",
   "version": "3.8.3"
  }
 },
 "nbformat": 4,
 "nbformat_minor": 4
}
