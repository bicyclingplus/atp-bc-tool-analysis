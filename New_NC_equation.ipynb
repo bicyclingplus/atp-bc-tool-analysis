{
 "cells": [
  {
   "cell_type": "markdown",
   "metadata": {},
   "source": [
    "This notebook will calculate new crashes based only on existing crashes, so it is consistent with whatever type/source of existing crash data the tool uses, and is not dependent on the current implementation of the crashes model\n",
    "\n",
    "This is the equation being implemented:\n",
    "$NC_{cmojk}=EC_{cmoj} * (1 + \\sum_{i}\\sum_{F}E_{ik} * \\frac{Ni}{L} * I_{F})^{p}*CRF_{mojk}$"
   ]
  },
  {
   "cell_type": "code",
   "execution_count": null,
   "metadata": {
    "scrolled": true
   },
   "outputs": [],
   "source": [
    "import numpy as np\n",
    "import pandas as pd"
   ]
  },
  {
   "cell_type": "code",
   "execution_count": null,
   "metadata": {
    "scrolled": false
   },
   "outputs": [],
   "source": [
    "existing_crashes = pd.read_csv('output_2023_09_05/reports/safety-4-combined-b-crashes-all.csv')\n",
    "infrastructure = pd.read_csv('output_2023_09_05/reports/overall-4-infrastructure-safety.csv')\n",
    "infrastructure_volume_changes = pd.read_csv('output_2023_09_05/lookups/per_element_travel_adjustments.csv')"
   ]
  },
  {
   "cell_type": "code",
   "execution_count": null,
   "metadata": {
    "scrolled": false
   },
   "outputs": [],
   "source": [
    "## Pull out the required variables: element, crashes volume increase per element, element share, improvement type, CRF\n",
    "CRFmojk = existing_crashes[\"CRFmojk\"]\n",
    "element = infrastructure[\"Infrastructure type\"]\n",
    "element = \"conventional-bike-lane\"\n",
    "share = infrastructure[\"Project share\"]\n",
    "## Fix later"
   ]
  },
  {
   "cell_type": "code",
   "execution_count": null,
   "metadata": {
    "scrolled": true
   },
   "outputs": [],
   "source": [
    "## testing\n",
    "volume_change = infrastructure_volume_changes[infrastructure_volume_changes[\"element\"] == element]\n",
    "volume_change.reset_index().at[0,\"mean adjustment (%)\"]"
   ]
  },
  {
   "cell_type": "code",
   "execution_count": null,
   "metadata": {
    "scrolled": true
   },
   "outputs": [],
   "source": [
    "## Define the function\n",
    "## have to iterate through all infrastructure for the one project ID\n",
    "def new_NC(Project_ID, Estimate, EC, CRF):\n",
    "    project_elements = infrastructure[infrastructure[\"Project ID\"] == Project_ID]\n",
    "    volume_change_factor = 1\n",
    "    for index, element in project_elements.iterrows():\n",
    "        element_name = element[\"Infrastructure type\"]\n",
    "        share = element[\"Project share\"]\n",
    "        improvement_type = element[\"Improvement type\"]\n",
    "        if improvement_type == \"retrofit\":\n",
    "            improvement_factor = 0.1\n",
    "        else:\n",
    "            improvement_factor = 1\n",
    "        sel_volume_change = infrastructure_volume_changes[infrastructure_volume_changes[\"element\"] == element_name]\n",
    "        if len(sel_volume_change) == 0:\n",
    "            volume_change = 0\n",
    "        else:\n",
    "            volume_change = (sel_volume_change.reset_index().at[0, Estimate + \" adjustment (%)\"])/100\n",
    "        volume_change_factor += volume_change * share * improvement_factor\n",
    "    ## volume change factor raised to \"safety in numbers\" power\n",
    "    volume_change_factor = (volume_change_factor)**0.5\n",
    "    NC = EC * volume_change_factor * CRF\n",
    "    return NC\n",
    "## I know this is not going to work because pandas iterates over columns, not rows, but just sketching out an idea\n",
    "## Terrible and messy code\n",
    "## Fix later - this is not the final implementation for the tool anyway, just testing to see if the equation improves the results"
   ]
  },
  {
   "cell_type": "code",
   "execution_count": null,
   "metadata": {
    "scrolled": true
   },
   "outputs": [],
   "source": [
    "def apply_new_NC(element,EC_type):\n",
    "    ## request the EC_type (eg what was used in the tool) to be added as a column to this table\n",
    "    ## then use whatever the tool used for the NC_new column\n",
    "    Project_ID = element[\"Project ID\"]\n",
    "    EC = element[\"ECmoj\" + EC_type]\n",
    "    Estimate = element[\"K estimate\"]\n",
    "    CRF = element[\"CRFmojk\"]\n",
    "    NC = new_NC(Project_ID,Estimate,EC,CRF)\n",
    "    return(NC)"
   ]
  },
  {
   "cell_type": "code",
   "execution_count": null,
   "metadata": {
    "scrolled": true
   },
   "outputs": [],
   "source": [
    "for index, row in existing_crashes.iterrows():\n",
    "    existing_crashes.at[index,\"NC_user\"] = apply_new_NC(row,\" with user input\")\n",
    "    existing_crashes.at[index,\"NC_model\"] = apply_new_NC(row,\" model\")"
   ]
  },
  {
   "cell_type": "markdown",
   "metadata": {},
   "source": [
    "### Calculate Crash Change"
   ]
  },
  {
   "cell_type": "code",
   "execution_count": null,
   "metadata": {
    "scrolled": true
   },
   "outputs": [],
   "source": [
    "## Calculate crash change: NC - EC for both model and user input (later add \"whatever the tool used\" version)\n",
    "existing_crashes[\"Change_user\"] = existing_crashes[\"NC_user\"] - existing_crashes[\"ECmoj with user input\"]\n",
    "existing_crashes[\"Change_model\"] = existing_crashes[\"NC_model\"] - existing_crashes[\"ECmoj model\"]"
   ]
  },
  {
   "cell_type": "code",
   "execution_count": null,
   "metadata": {
    "scrolled": true
   },
   "outputs": [],
   "source": [
    "total_crash_change = pd.read_csv('output_2023_09_05/reports/safety-4-combined-c-crashes-volume.csv')"
   ]
  },
  {
   "cell_type": "code",
   "execution_count": null,
   "metadata": {
    "scrolled": true
   },
   "outputs": [],
   "source": [
    "## Sum crashes by location type - maintain split by project, mode, outcome, estimate\n",
    "change_model_mok = existing_crashes.groupby([\"Project ID\",\"M Mode\",\"O Outcome\",\"K estimate\"])[\"Change_model\"].sum()\n",
    "change_user_mok = existing_crashes.groupby([\"Project ID\",\"M Mode\",\"O Outcome\",\"K estimate\"])[\"Change_user\"].sum()\n",
    "change_user_mok.loc[(\"644adafaab814ec4fdd30fab\",\"bicycling\",\"crash\",\"lower\")]"
   ]
  },
  {
   "cell_type": "code",
   "execution_count": null,
   "metadata": {
    "scrolled": true
   },
   "outputs": [],
   "source": [
    "## Try to add Crash_change_model and Crash_change_user to the total_crash_change table\n",
    "for index, row in total_crash_change.iterrows():\n",
    "    ## The set of characteristics for this project, mode, outcome, estimate\n",
    "    row_chars = (row[\"Project ID\"],row[\"M Mode\"],row[\"O Outcome\"],row[\"K Estimate\"])\n",
    "    ## The corresponding model and user crash changes (summed by location type in the previous cell)\n",
    "    total_crash_change.at[index,\"model_crash_change\"] = change_model_mok.loc[row_chars]\n",
    "    total_crash_change.at[index,\"user_crash_change\"] = change_user_mok.loc[row_chars]"
   ]
  },
  {
   "cell_type": "markdown",
   "metadata": {},
   "source": [
    "### Calculate Relative Crashes\n",
    "- Before crashes per 1000 volume: user\n",
    "- Before crashes per 1000 volume: model\n",
    "- After crashes per 1000 volume: user\n",
    "- After crashes per 1000 volume: model\n",
    "- Change in crashes per 1000 volume: user (after - before)\n",
    "- Change in crashes per 1000 volume: model (after - before)"
   ]
  },
  {
   "cell_type": "code",
   "execution_count": null,
   "metadata": {},
   "outputs": [],
   "source": [
    "## Get existing and projected volume from safety-5-volume-d-combined.csv\n",
    "volume = pd.read_csv('output_2023_09_05/reports/safety-5-volume-d-combined.csv')"
   ]
  },
  {
   "cell_type": "code",
   "execution_count": null,
   "metadata": {},
   "outputs": [],
   "source": [
    "for index, volume_row in volume.iterrows():\n",
    "    projectID = volume_row[\"Project ID\"]\n",
    "    m = volume_row[\"M Mode\"]\n",
    "    j = volume_row[\"J Location type\"]\n",
    "    k = volume_row[\"K Estimate\"]\n",
    "    crashes_rows = existing_crashes[existing_crashes[\"Project ID\"] == projectID][existing_crashes[\"M Mode\"] == m][existing_crashes[\"J Location\"] == j][existing_crashes[\"K estimate\"] == k]\n",
    "    for index, crashes_row in crashes_rows.iterrows():\n",
    "        if (volume_row[\"Existing Volume Vmj\"] == 0):\n",
    "            # print(\"Error: 0 existing volume in %s\"% [projectID, m, crashes_row[\"O Outcome\"], j, k])\n",
    "            # commenting out for now to speed this up\n",
    "            total_crash_change.at[index, \"before_model\"] = 'NaN'\n",
    "            total_crash_change.at[index, \"before_user\"] = 'NaN'\n",
    "            # Is using the index like this a valid way to do this?\n",
    "        else:\n",
    "            total_crash_change.at[index, \"before_model\"] = crashes_row[\"ECmoj model\"]/volume_row[\"Existing Volume Vmj\"] * 1000\n",
    "            total_crash_change.at[index, \"before_user\"] = crashes_row[\"ECmoj with user input\"]/volume_row[\"Existing Volume Vmj\"] * 1000\n",
    "        if (volume_row[\"Projected Volume PVmjk\"] == 0):\n",
    "            # print(\"Error: 0 projected volume in %s\"% [projectID, m, crashes_row[\"O Outcome\"], j, k])\n",
    "            total_crash_change.at[index, \"after_model\"] = 'NaN'\n",
    "            total_crash_change.at[index, \"after_user\"] = 'NaN'\n",
    "        else:\n",
    "            total_crash_change.at[index, \"after_model\"] = crashes_row[\"NC_model\"]/volume_row[\"Projected Volume PVmjk\"] * 1000\n",
    "            total_crash_change.at[index, \"after_user\"] = crashes_row[\"NC_user\"]/volume_row[\"Projected Volume PVmjk\"] * 1000\n",
    "total_crash_change\n",
    "## Wow, that is a lot of projects with zero volume! need to look into this later!!\n",
    "## Also seeing projects with 'NaN' volume - what is happening with these projects?"
   ]
  },
  {
   "cell_type": "markdown",
   "metadata": {},
   "source": [
    "### Recalculate with \"fixed\" crash model\n",
    "Now that we have identified a prominent error with the model and calculated new accurate values (Individual_segment_intersection_crash_model.ipynb), let's use those values to calculate model NC and crash change with these equations again\n",
    "$EC_{cmoj} = (EV_{cmj})^{p} * \\sum_{f}\\sum_{v}e^{Ɑ_{mojvf}} * L_{jvf}$"
   ]
  },
  {
   "cell_type": "code",
   "execution_count": null,
   "metadata": {},
   "outputs": [],
   "source": [
    "# The easiest approach I can think of right now is to export those results as a CSV and import here\n",
    "Ljvf=pd.read_csv('output_2023_09_05/reports/overall-3-reach-Ljvf.csv')\n",
    "alpha=pd.read_csv('output_2023_09_05/lookups/alpha.csv')\n",
    "\n",
    "## 1. setup - combine Ljvf and alpha\n",
    "alpha[\"e_alpha\"] = np.exp(alpha[\"alpha\"])\n",
    "alpha = alpha.rename(columns={\"volume\":\"V volume class\",\"functional class\":\"F functional class\",\"location type\":\"J location type\",\"mode\":\"M Mode\",\"outcome\":\"O Outcome\"})\n",
    "Ljvf_alpha = pd.merge(Ljvf,alpha,on=[\"V volume class\",\"F functional class\",\"J location type\"])\n",
    "\n",
    "## 2. sum of ljvf * e^amojvf over v and f (keep separated by m,o,j)\n",
    "Ljvf_alpha[\"Ljvf_e_alpha\"] = Ljvf_alpha[\"Count or length\"]*Ljvf_alpha[\"e_alpha\"]\n",
    "Lj_alpha = Ljvf_alpha.groupby([\"Project ID\",\"M Mode\",\"O Outcome\",\"J location type\"]).sum()\n",
    "\n",
    "## 3. multiply by Vmj\n",
    "volume = volume.rename(columns={\"J Location type\":\"J location type\"})\n",
    "Lj_alpha = Lj_alpha.reset_index()\n",
    "Lj_alpha_volume = pd.merge(Lj_alpha,volume,how='outer',on=[\"Project ID\",\"M Mode\",\"J location type\"])\n",
    "(Lj_alpha_volume[\"Existing Volume Vmj\"]*Lj_alpha_volume[\"Ljvf_e_alpha\"]).plot()\n",
    "## Why are these so large??"
   ]
  },
  {
   "cell_type": "code",
   "execution_count": null,
   "metadata": {},
   "outputs": [],
   "source": [
    "Ljvf_alpha[(Ljvf_alpha[\"J location type\"] == \"intersection\") & (Ljvf_alpha[\"Ljvf_e_alpha\"] > 2)]"
   ]
  },
  {
   "cell_type": "code",
   "execution_count": null,
   "metadata": {},
   "outputs": [],
   "source": [
    "Ljvf[(Ljvf[\"Project ID\"] == \"6490d4551930d10600997fd1\") & (Ljvf[\"J location type\"] == \"roadway\")]"
   ]
  },
  {
   "cell_type": "code",
   "execution_count": null,
   "metadata": {},
   "outputs": [],
   "source": [
    "Ljvf_alpha[(Ljvf_alpha[\"Project ID\"] == \"6490d4551930d10600997fd1\") & (Ljvf_alpha[\"J location type\"] == \"roadway\")]"
   ]
  },
  {
   "cell_type": "code",
   "execution_count": null,
   "metadata": {},
   "outputs": [],
   "source": [
    "Ljvf_alpha[(Ljvf_alpha[\"Project ID\"] == \"6490d4551930d10600997fd1\") & (Ljvf_alpha[\"J location type\"] == \"roadway\")].groupby([\"J location type\",\"M Mode\",\"O Outcome\"]).sum()"
   ]
  },
  {
   "cell_type": "code",
   "execution_count": null,
   "metadata": {},
   "outputs": [],
   "source": [
    "Lj_alpha_volume[(Lj_alpha_volume[\"K Estimate\"] == \"mean\") & (Lj_alpha_volume[\"O Outcome\"] == \"crash\")]"
   ]
  },
  {
   "cell_type": "code",
   "execution_count": null,
   "metadata": {},
   "outputs": [],
   "source": [
    "volume[\"Existing Volume Vmj\"].plot()\n",
    "## What?? Why are the volumes so large? This seems off somehow?\n",
    "segments = pd.read_csv('output_2023_09_05/reports/overall-5-ways.csv')\n",
    "intersections = pd.read_csv('output_2023_09_05/reports/overall-6-intersections.csv')\n",
    "\n",
    "segments_n = segments.replace([\"Not applicable\",\"Not available\"],np.NaN)\n",
    "intersections_n = intersections.replace([\"Not applicable\",\"Not available\"],np.NaN)\n",
    "\n",
    "segments_n[\"Bicycle exposure\"]=pd.to_numeric(segments_n[\"Bicycle exposure\"])\n",
    "segments_n[\"Pedestrian exposure\"]=pd.to_numeric(segments_n[\"Pedestrian exposure\"])\n",
    "intersections_n[\"Bicycle exposure\"]=pd.to_numeric(intersections_n[\"Bicycle exposure\"])\n",
    "intersections_n[\"Pedestrian exposure\"]=pd.to_numeric(intersections_n[\"Pedestrian exposure\"])\n",
    "\n",
    "segments_n.groupby(\"Project ID\").sum().plot()\n",
    "intersections_n.groupby(\"Project ID\").sum().plot()\n",
    "\n",
    "# OK I guess it is about the same as what I got from the individual segments/intersections then\n",
    "# It does look slightly larger - 800,000 max instead of 700,000 max? "
   ]
  },
  {
   "cell_type": "code",
   "execution_count": null,
   "metadata": {},
   "outputs": [],
   "source": [
    "## What about the e^alpha constant * Ljvf? Is that the same as the individual segments method?"
   ]
  },
  {
   "cell_type": "code",
   "execution_count": null,
   "metadata": {},
   "outputs": [],
   "source": [
    "### Ohh, it's probably just the ^0.5 power for the volume\n",
    "#(pow(Lj_alpha_volume[\"Existing Volume Vmj\"],0.5)*Lj_alpha_volume[\"Ljvf_e_alpha\"]).plot()\n",
    "Lj_alpha_volume[\"Crashes\"] = (pow(Lj_alpha_volume[\"Existing Volume Vmj\"],0.5)*Lj_alpha_volume[\"Ljvf_e_alpha\"])\n",
    "Lj_alpha_volume.groupby([\"M Mode\",\"J location type\"])[\"Crashes\"].plot(legend=True)\n",
    "# Lj_alpha_volume[\"Crashes\"] = pow(Lj_alpha_volume[\"Existing Volume Vmj\"],0.5)*Lj_alpha_volume[\"Ljvf_e_alpha\"]\n",
    "# Lj_alpha_volume[Lj_alpha_volume[\"Crashes\"] > 800]\n",
    "## No, this is better but still basically what the tool is outputting (max 1400 crashes)\n",
    "## So what is the real difference between calculating at separate intersections/segments and calculating in the aggregate???\n",
    "## Wait, what happened to the \"outcome\" column? Anyway clearly I am either making a mistake or the whole equation is flawed in the first place."
   ]
  },
  {
   "cell_type": "code",
   "execution_count": null,
   "metadata": {},
   "outputs": [],
   "source": [
    "# Compared to the existing model crashes from the tool - basically looks the same? Why?\n",
    "existing_crashes[\"ECmoj model\"].plot(legend=True)"
   ]
  },
  {
   "cell_type": "markdown",
   "metadata": {},
   "source": [
    "Uh oh, it looks like this method (multiply volume outside of the summation) doesn't actually fix the issue? Why does it work for adding up the segments/intersections separately then?"
   ]
  },
  {
   "cell_type": "markdown",
   "metadata": {},
   "source": [
    "So looking more carefully at the equation (see github issue) the implementation actually does need to use separated volume by volume/functional class\n",
    "Correct implementation: $EC_{cmoj} =  \\sum_{f}\\sum_{v}e^{Ɑ_{mojvf}} * L_{jvf} * (EV_{cmjvf})^{p}$"
   ]
  },
  {
   "cell_type": "code",
   "execution_count": null,
   "metadata": {},
   "outputs": [],
   "source": [
    "# Convert to feet\n",
    "segments_n[\"Length_count\"] = segments_n[\"Length\"]/5280\n",
    "# Find totals for each volume/functional class\n",
    "segments_volume = segments_n.groupby([\"Project ID\",\"Bicycle volume class\",\"Functional class\"]).sum().reset_index()\n",
    "# \"Count\" of one intersection = 1\n",
    "intersections_n.loc[:,\"Length_count\"] = 1\n",
    "# Find totals for each volume/functional class\n",
    "intersections_volume = intersections_n.groupby([\"Project ID\",\"Pedestrian volume class\",\"Functional class\"]).sum().reset_index()"
   ]
  },
  {
   "cell_type": "code",
   "execution_count": null,
   "metadata": {},
   "outputs": [],
   "source": [
    "# Set the location type to be able to match up with the Ljvf/alpha constant tables\n",
    "segments_volume.loc[:,\"J location type\"] = \"roadway\"\n",
    "intersections_volume.loc[:,\"J location type\"] = \"intersection\""
   ]
  },
  {
   "cell_type": "code",
   "execution_count": null,
   "metadata": {},
   "outputs": [],
   "source": [
    "# Rename and change capitalization to be able to merge\n",
    "segments_volume[\"Bicycle volume class\"] = segments_volume[\"Bicycle volume class\"].str.lower()\n",
    "segments_volume = segments_volume.rename(columns={\"Bicycle volume class\":\"V volume class\",\"Functional class\":\"F functional class\"})\n",
    "intersections_volume[\"Pedestrian volume class\"] = intersections_volume[\"Pedestrian volume class\"].str.lower()\n",
    "intersections_volume = intersections_volume.rename(columns={\"Pedestrian volume class\":\"V volume class\",\"Functional class\":\"F functional class\"})"
   ]
  },
  {
   "cell_type": "code",
   "execution_count": null,
   "metadata": {},
   "outputs": [],
   "source": [
    "# Combine volume for segments and intersections\n",
    "volume_mjvf = pd.concat([intersections_volume,segments_volume])"
   ]
  },
  {
   "cell_type": "code",
   "execution_count": null,
   "metadata": {},
   "outputs": [],
   "source": [
    "# Combine with Ljvf and alpha constants\n",
    "Ljvf_alpha_in_volume = pd.merge(Ljvf_alpha,volume_mjvf,how=\"outer\",on=[\"Project ID\",\"J location type\",\"V volume class\",\"F functional class\"])"
   ]
  },
  {
   "cell_type": "code",
   "execution_count": null,
   "metadata": {},
   "outputs": [],
   "source": [
    "Ljvf_alpha_in_volume"
   ]
  },
  {
   "cell_type": "markdown",
   "metadata": {},
   "source": [
    "### Graphs of new relative crashes"
   ]
  },
  {
   "cell_type": "code",
   "execution_count": null,
   "metadata": {
    "scrolled": true
   },
   "outputs": [],
   "source": [
    "## Graph new relative crashes - model only\n",
    "(total_crash_change[\"after_model\"] - total_crash_change[\"before_model\"]).plot()"
   ]
  },
  {
   "cell_type": "code",
   "execution_count": null,
   "metadata": {},
   "outputs": [],
   "source": [
    "## Graph new relative crashes - user only\n",
    "(total_crash_change[\"after_user\"] - total_crash_change[\"before_user\"]).plot()"
   ]
  },
  {
   "cell_type": "markdown",
   "metadata": {},
   "source": [
    "Yay, these are almost all actually negative now!"
   ]
  },
  {
   "cell_type": "code",
   "execution_count": null,
   "metadata": {},
   "outputs": [],
   "source": [
    "total_crash_change[total_crash_change[\"after_model\"] - total_crash_change[\"before_model\"] > 0]"
   ]
  },
  {
   "cell_type": "code",
   "execution_count": null,
   "metadata": {},
   "outputs": [],
   "source": [
    "## Which ones are positive?\n",
    "total_crash_change[total_crash_change[\"after_model\"] - total_crash_change[\"before_model\"] > 0].plot(y=[\"before_model\", \"after_model\"])"
   ]
  },
  {
   "cell_type": "code",
   "execution_count": null,
   "metadata": {
    "scrolled": true
   },
   "outputs": [],
   "source": [
    "total_crash_change[total_crash_change[\"after_user\"] - total_crash_change[\"before_user\"] > 0].plot(y=[\"before_user\", \"after_user\"])"
   ]
  },
  {
   "cell_type": "markdown",
   "metadata": {},
   "source": [
    "Aha, it looks like these projects have a CRF = 1\n",
    "\n",
    "So crashes are not actually increasing, they are staying the same (and maybe show up as increasing slightly because of rounding?)"
   ]
  },
  {
   "cell_type": "code",
   "execution_count": null,
   "metadata": {},
   "outputs": [],
   "source": [
    "len(total_crash_change[total_crash_change[\"after_model\"] - total_crash_change[\"before_model\"] < 0])/len(total_crash_change)"
   ]
  },
  {
   "cell_type": "code",
   "execution_count": null,
   "metadata": {},
   "outputs": [],
   "source": [
    "len(total_crash_change[total_crash_change[\"after_model\"] - total_crash_change[\"before_model\"] < 0])/len(total_crash_change)"
   ]
  },
  {
   "cell_type": "markdown",
   "metadata": {},
   "source": [
    "This implies that now the remaining ~40% of results just had a greater increase in volume than decrease in crashes... wait no that can't be right. because this is now scaled by volume. it probably has to do with all the NaN values which I haven't dealt with here yet."
   ]
  },
  {
   "cell_type": "code",
   "execution_count": null,
   "metadata": {},
   "outputs": [],
   "source": [
    "len(total_crash_change[total_crash_change[\"after_model\"] - total_crash_change[\"before_model\"] < 0][\"Project ID\"].unique())/len(total_crash_change[\"Project ID\"].unique())"
   ]
  },
  {
   "cell_type": "code",
   "execution_count": null,
   "metadata": {},
   "outputs": [],
   "source": [
    "len(total_crash_change[total_crash_change[\"after_user\"] - total_crash_change[\"before_user\"] < 0][\"Project ID\"].unique())/len(total_crash_change[\"Project ID\"].unique())"
   ]
  },
  {
   "cell_type": "markdown",
   "metadata": {},
   "source": [
    "### Graphs of new NC vs old NC results"
   ]
  },
  {
   "cell_type": "code",
   "execution_count": null,
   "metadata": {
    "scrolled": false
   },
   "outputs": [],
   "source": [
    "## Validate that these are equal?\n",
    "(existing_crashes[\"NC_model\"]-existing_crashes[\"NCmojk\"]).plot()\n",
    "## some weird stuff going on here\n",
    "## Maybe errors with how one or the other was calculated\n",
    "existing_crashes[abs(existing_crashes[\"NC_model\"]-existing_crashes[\"NCmojk\"]) > 100]\n",
    "## Look at these projects somehow and try to figure out why they are so off"
   ]
  },
  {
   "cell_type": "code",
   "execution_count": null,
   "metadata": {
    "scrolled": false
   },
   "outputs": [],
   "source": [
    "(existing_crashes[\"NC_model\"]-existing_crashes[\"ECmoj with user input\"]).plot(figsize = (15,10), ylim=(-25,25))\n",
    "(existing_crashes[\"Change_model\"]).plot(figsize = (15,10), ylim=(-25,25))\n",
    "(existing_crashes[\"Change_user\"]).plot(figsize = (15,10), ylim=(-25,25))\n",
    "## The user-input -> user-input definitely looks the most reasonable - no more than a change in 25 crashes or so"
   ]
  },
  {
   "cell_type": "code",
   "execution_count": null,
   "metadata": {
    "scrolled": false
   },
   "outputs": [],
   "source": [
    "existing_crashes.plot(y=[\"ECmoj model\",\"NC_model\",\"ECmoj with user input\",\"NC_user\"], figsize = (15,10), ylim=(0,50))"
   ]
  },
  {
   "cell_type": "code",
   "execution_count": null,
   "metadata": {
    "scrolled": false
   },
   "outputs": [],
   "source": [
    "total_crash_change.plot(y=[\"Change in crashes\",\"model_crash_change\",\"user_crash_change\"],figsize = (15,10))"
   ]
  },
  {
   "cell_type": "code",
   "execution_count": null,
   "metadata": {
    "scrolled": true
   },
   "outputs": [],
   "source": [
    "## Which projects are now negative? (decrease in crashes)\n",
    "existing_crashes[existing_crashes[\"Change_user\"] < 0]\n",
    "## What proportion are now negative? (out of all projects)\n",
    "len(existing_crashes[existing_crashes[\"Change_user\"] < 0])/len(existing_crashes[existing_crashes[\"ECmoj with user input\"].notna()])"
   ]
  },
  {
   "cell_type": "code",
   "execution_count": null,
   "metadata": {
    "scrolled": true
   },
   "outputs": [],
   "source": [
    "existing_crashes[existing_crashes[\"Change_model\"] < 0]\n",
    "len(existing_crashes[(existing_crashes[\"Change_model\"]) < 0])/len(existing_crashes)"
   ]
  },
  {
   "cell_type": "code",
   "execution_count": null,
   "metadata": {
    "scrolled": false
   },
   "outputs": [],
   "source": [
    "## what proportion was originally negative?\n",
    "## (just in the original condition where the EC was user input, since that is what this new equation addresses)\n",
    "existing_crashes[existing_crashes[\"NCmojk\"]-existing_crashes[\"ECmoj with user input\"] < 0]\n",
    "len(existing_crashes[(existing_crashes[\"NCmojk\"]-existing_crashes[\"ECmoj with user input\"]) < 0])/len(existing_crashes[existing_crashes[\"ECmoj with user input\"].notna()])"
   ]
  },
  {
   "cell_type": "markdown",
   "metadata": {},
   "source": [
    "How did it get worse somehow??\n",
    "Maybe this will get better with the relative crash rates, since it probably has to do with the increases in volume (which are now actually being applied to the user based EC, while before they would be applied to the model based EC??)"
   ]
  },
  {
   "cell_type": "code",
   "execution_count": null,
   "metadata": {
    "scrolled": false
   },
   "outputs": [],
   "source": [
    "## Graph separated by mode and location type - look into this further later, there seems to be big disparities between bicycling roadway and walking roadway etc\n",
    "existing_crashes.groupby([\"J Location\",\"M Mode\"])[\"Change_user\"].plot(legend=\"true\",figsize = (15,10))"
   ]
  },
  {
   "cell_type": "code",
   "execution_count": null,
   "metadata": {},
   "outputs": [],
   "source": [
    "existing_crashes[existing_crashes[\"M Mode\"]==\"bicycling\"].groupby([\"J Location\"])[\"Change_user\"].plot(legend=True)"
   ]
  },
  {
   "cell_type": "code",
   "execution_count": null,
   "metadata": {},
   "outputs": [],
   "source": [
    "existing_crashes[existing_crashes[\"M Mode\"]==\"walking\"].groupby([\"J Location\"])[\"Change_user\"].plot(legend=True)"
   ]
  },
  {
   "cell_type": "code",
   "execution_count": null,
   "metadata": {},
   "outputs": [],
   "source": [
    "existing_crashes.groupby([\"J Location\",\"M Mode\"])[\"Change_user\"].plot(legend=True)"
   ]
  },
  {
   "cell_type": "code",
   "execution_count": null,
   "metadata": {},
   "outputs": [],
   "source": [
    "existing_crashes[existing_crashes[\"M Mode\"]==\"bicycling\"].groupby([\"J Location\"])[\"Change_model\"].plot(legend=True)"
   ]
  },
  {
   "cell_type": "code",
   "execution_count": null,
   "metadata": {},
   "outputs": [],
   "source": [
    "existing_crashes[existing_crashes[\"M Mode\"]==\"walking\"].groupby([\"J Location\"])[\"Change_model\"].plot(legend=True)"
   ]
  },
  {
   "cell_type": "code",
   "execution_count": null,
   "metadata": {},
   "outputs": [],
   "source": [
    "existing_crashes.groupby([\"J Location\",\"M Mode\"])[\"Change_model\"].plot(legend=True)"
   ]
  },
  {
   "cell_type": "code",
   "execution_count": null,
   "metadata": {},
   "outputs": [],
   "source": [
    "existing_crashes[\"Change_existing\"] = existing_crashes[\"NCmojk\"] - existing_crashes[\"ECmoj with user input\"]\n",
    "existing_crashes[existing_crashes[\"M Mode\"]==\"bicycling\"].groupby([\"J Location\"])[\"Change_existing\"].plot(legend=True)"
   ]
  },
  {
   "cell_type": "code",
   "execution_count": null,
   "metadata": {},
   "outputs": [],
   "source": [
    "existing_crashes[existing_crashes[\"M Mode\"]==\"walking\"].groupby([\"J Location\"])[\"Change_existing\"].plot(legend=True)"
   ]
  },
  {
   "cell_type": "code",
   "execution_count": null,
   "metadata": {},
   "outputs": [],
   "source": [
    "existing_crashes.groupby([\"J Location\",\"M Mode\"])[\"Change_existing\"].plot(legend=True)"
   ]
  },
  {
   "cell_type": "code",
   "execution_count": null,
   "metadata": {},
   "outputs": [],
   "source": []
  }
 ],
 "metadata": {
  "kernelspec": {
   "display_name": "Python 3",
   "language": "python",
   "name": "python3"
  },
  "language_info": {
   "codemirror_mode": {
    "name": "ipython",
    "version": 3
   },
   "file_extension": ".py",
   "mimetype": "text/x-python",
   "name": "python",
   "nbconvert_exporter": "python",
   "pygments_lexer": "ipython3",
   "version": "3.8.3"
  }
 },
 "nbformat": 4,
 "nbformat_minor": 4
}
