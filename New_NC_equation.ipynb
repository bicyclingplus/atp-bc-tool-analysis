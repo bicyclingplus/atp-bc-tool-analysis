{
 "cells": [
  {
   "cell_type": "markdown",
   "metadata": {},
   "source": [
    "This notebook will calculate new crashes based only on existing crashes, so it is consistent with whatever type/source of existing crash data the tool uses, and is not dependent on the current implementation of the crashes model\n",
    "\n",
    "This is the equation being implemented:\n",
    "$NC_{cmojk}=EC_{cmoj} * (1 + \\sum_{i}\\sum_{F}E_{ik} * \\frac{Ni}{L} * I_{F})^{p}*CRF_{mojk}$"
   ]
  },
  {
   "cell_type": "code",
   "execution_count": null,
   "metadata": {},
   "outputs": [],
   "source": [
    "import numpy as np\n",
    "import pandas as pd"
   ]
  },
  {
   "cell_type": "code",
   "execution_count": null,
   "metadata": {},
   "outputs": [],
   "source": [
    "existing_crashes = pd.read_csv('output_2023_09_05/reports/safety-4-combined-b-crashes-all.csv')\n",
    "infrastructure = pd.read_csv('output_2023_09_05/reports/overall-4-infrastructure-safety.csv')\n",
    "infrastructure_volume_changes = pd.read_csv('output_2023_09_05/lookups/per_element_travel_adjustments.csv')"
   ]
  },
  {
   "cell_type": "code",
   "execution_count": null,
   "metadata": {
    "scrolled": true
   },
   "outputs": [],
   "source": [
    "## Pull out the required variables: element, crashes volume increase per element, element share, improvement type, CRF\n",
    "CRFmojk = existing_crashes[\"CRFmojk\"]\n",
    "element = infrastructure[\"Infrastructure type\"]\n",
    "element = \"conventional-bike-lane\"\n",
    "share = infrastructure[\"Project share\"]\n",
    "## Fix later"
   ]
  },
  {
   "cell_type": "code",
   "execution_count": null,
   "metadata": {},
   "outputs": [],
   "source": [
    "## testing\n",
    "volume_change = infrastructure_volume_changes[infrastructure_volume_changes[\"element\"] == element]\n",
    "volume_change.reset_index().at[0,\"mean adjustment (%)\"]"
   ]
  },
  {
   "cell_type": "code",
   "execution_count": null,
   "metadata": {},
   "outputs": [],
   "source": [
    "## Define the function\n",
    "## have to iterate through all infrastructure for the one project ID\n",
    "def new_NC(Project_ID, Estimate, EC, CRF):\n",
    "    project_elements = infrastructure[infrastructure[\"Project ID\"] == Project_ID]\n",
    "    ##print(project_elements)\n",
    "    volume_change_factor = 1\n",
    "    for index, element in project_elements.iterrows():\n",
    "        element_name = element[\"Infrastructure type\"]\n",
    "        ##print(element_name)\n",
    "        share = element[\"Project share\"]\n",
    "        ##print(\"share is %s\"% share)\n",
    "        improvement_type = element[\"Improvement type\"]\n",
    "        ##print(\"improvement type is %s\"% improvement_type)\n",
    "        if improvement_type == \"retrofit\":\n",
    "            improvement_factor = 0.1\n",
    "        else:\n",
    "            improvement_factor = 1\n",
    "        ##if element_name in infrastructure_volume_changes[\"element\"]:\n",
    "        sel_volume_change = infrastructure_volume_changes[infrastructure_volume_changes[\"element\"] == element_name]\n",
    "        ##print(\"the length of sel_volume_change is: %s\"% len(sel_volume_change))\n",
    "        if len(sel_volume_change) == 0:\n",
    "            volume_change = 0\n",
    "            ##print(\"no sel_volume\")\n",
    "        else:\n",
    "            ##print(\"sel_volume_change is %s\"% sel_volume_change)\n",
    "            volume_change = (sel_volume_change.reset_index().at[0, Estimate + \" adjustment (%)\"])/100\n",
    "            ##print(\"volume_change\")\n",
    "        volume_change_factor += volume_change * share * improvement_factor\n",
    "        ##print(\"volume_change_factor is %s\"% volume_change_factor)\n",
    "    ## volume change factor raised to \"safety in numbers\" power\n",
    "    volume_change_factor = (volume_change_factor)**0.5\n",
    "    NC = EC * volume_change_factor * CRF\n",
    "    return NC\n",
    "## I know this is not going to work because pandas iterates over columns, not rows, but just sketching out an idea\n",
    "## Terrible and messy code\n",
    "## Fix later - this is not the final implementation for the tool anyway, just testing to see if the equation improves the results"
   ]
  },
  {
   "cell_type": "code",
   "execution_count": null,
   "metadata": {
    "scrolled": false
   },
   "outputs": [],
   "source": [
    "def apply_new_NC(element):\n",
    "    Project_ID = element[\"Project ID\"]\n",
    "    EC = element[\"ECmoj model\"]\n",
    "    Estimate = element[\"K estimate\"]\n",
    "    CRF = element[\"CRFmojk\"]\n",
    "    NC = new_NC(Project_ID,Estimate,EC,CRF)\n",
    "    return(NC)"
   ]
  },
  {
   "cell_type": "code",
   "execution_count": null,
   "metadata": {},
   "outputs": [],
   "source": [
    "for index, row in existing_crashes.iterrows():\n",
    "    existing_crashes.at[index,\"new_NC\"] = apply_new_NC(row)\n",
    "## existing_crashes.apply(apply_new_NC, 'columns', 'expand')"
   ]
  },
  {
   "cell_type": "code",
   "execution_count": null,
   "metadata": {
    "scrolled": true
   },
   "outputs": [],
   "source": [
    "## Validate that these are equal?\n",
    "(existing_crashes[\"new_NC\"]-existing_crashes[\"NCmojk\"]).plot()\n",
    "## some weird stuff going on here\n",
    "## Maybe errors with how one or the other was calculated"
   ]
  },
  {
   "cell_type": "code",
   "execution_count": null,
   "metadata": {},
   "outputs": [],
   "source": [
    "existing_crashes[\"new_NC\"].plot()"
   ]
  },
  {
   "cell_type": "code",
   "execution_count": null,
   "metadata": {},
   "outputs": [],
   "source": [
    "existing_crashes[\"NCmojk\"].plot()"
   ]
  },
  {
   "cell_type": "code",
   "execution_count": null,
   "metadata": {},
   "outputs": [],
   "source": [
    "existing_crashes.plot(y=[\"NCmojk\",\"new_NC\"])"
   ]
  }
 ],
 "metadata": {
  "kernelspec": {
   "display_name": "Python 3",
   "language": "python",
   "name": "python3"
  },
  "language_info": {
   "codemirror_mode": {
    "name": "ipython",
    "version": 3
   },
   "file_extension": ".py",
   "mimetype": "text/x-python",
   "name": "python",
   "nbconvert_exporter": "python",
   "pygments_lexer": "ipython3",
   "version": "3.8.3"
  }
 },
 "nbformat": 4,
 "nbformat_minor": 4
}
