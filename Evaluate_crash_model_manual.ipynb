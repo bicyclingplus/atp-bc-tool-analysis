{
 "cells": [
  {
   "cell_type": "code",
   "execution_count": null,
   "metadata": {},
   "outputs": [],
   "source": [
    "import numpy as np\n",
    "import pandas as pd\n",
    "import matplotlib as plt"
   ]
  },
  {
   "cell_type": "markdown",
   "metadata": {},
   "source": [
    "### Go through the crash estimation steps for one project and see where the numbers start to get off"
   ]
  },
  {
   "cell_type": "code",
   "execution_count": null,
   "metadata": {},
   "outputs": [],
   "source": [
    "## First, let's pick a project with a large/unreasonable number of crashes. Like >100 or so.\n",
    "crashes = pd.read_csv('output_2023_09_05/reports/safety-4-combined-b-crashes-all.csv')\n",
    "(crashes[crashes[\"ECmoj model\"] > 100])[\"Project ID\"].unique()"
   ]
  },
  {
   "cell_type": "markdown",
   "metadata": {},
   "source": [
    "Project ID (picked the first one from table above): 64d2a1c2597e1e819a7b4309"
   ]
  },
  {
   "cell_type": "markdown",
   "metadata": {},
   "source": [
    "Open the 'debug' folder for this project and pull out data to calculate the model crashes\n",
    "Actually if I can get as much stuff as possible from overall reports, that might make this easier (to be able to iterate/generalize to all projects later)\n",
    "\n",
    "Data needed:\n",
    "- Length, functional class, volume class for all segments/intersections in the project\n",
    "    - overall-5-ways.csv, overall-6-intersections.csv\n",
    "- Project length/count totals\n",
    "    - overall-2-reach-type.csv (or just calculate from overall-5-ways.csv and overall-6-intersections.csv)\n",
    "- Ljvf totals\n",
    "    - overall-3-reach-Ljvf.csv\n",
    "- Alpha constants\n",
    "    - safety-4-combined-a-crashes-model.csv\n",
    "- Volume/demand for all segments/intersections in the project\n",
    "    - overall-5-ways.csv, overall-6-intersections.csv\n",
    "- Volume/demand totals\n",
    "    - safety-5-volume-d-combined.csv\n",
    "- ECCmojvf (to compare against my manual results)\n",
    "    - safety-4-combined-a-crashes-model.csv\n",
    "- ECmoj (to compare against my manual results)\n",
    "    - safety-4-combined-b-crashes-all.csv"
   ]
  },
  {
   "cell_type": "code",
   "execution_count": null,
   "metadata": {},
   "outputs": [],
   "source": [
    "segments = pd.read_csv('output_2023_09_05/reports/overall-5-ways.csv')\n",
    "intersections = pd.read_csv('output_2023_09_05/reports/overall-6-intersections.csv')\n",
    "alpha = pd.read_csv('output_2023_09_05/reports/safety-4-combined-a-crashes-model.csv')\n",
    "Ljvf = pd.read_csv('output_2023_09_05/reports/overall-3-reach-Ljvf.csv')\n",
    "volume = pd.read_csv('output_2023_09_05/reports/safety-5-volume-d-combined.csv')\n",
    "crash_model = pd.read_csv('output_2023_09_05/reports/safety-4-combined-a-crashes-model.csv')"
   ]
  },
  {
   "cell_type": "code",
   "execution_count": null,
   "metadata": {},
   "outputs": [],
   "source": [
    "segments[segments[\"Project ID\"] == \"64d2a1c2597e1e819a7b4309\"]\n",
    "## Oops, this isn't in this table... I wonder why? anyway, let's choose a different project!"
   ]
  },
  {
   "cell_type": "code",
   "execution_count": null,
   "metadata": {},
   "outputs": [],
   "source": [
    "len(crashes[\"Project ID\"].unique())"
   ]
  },
  {
   "cell_type": "code",
   "execution_count": null,
   "metadata": {
    "scrolled": true
   },
   "outputs": [],
   "source": [
    "len(segments[\"Project ID\"].unique())\n",
    "## I wonder why this has 10 less projects than the other table...anyway..."
   ]
  },
  {
   "cell_type": "markdown",
   "metadata": {},
   "source": [
    "New project ID: 64962a7f1930d10600997fdf"
   ]
  },
  {
   "cell_type": "code",
   "execution_count": null,
   "metadata": {},
   "outputs": [],
   "source": [
    "## Get all segments and intersections in project\n",
    "project_segments = segments[segments[\"Project ID\"] == \"64962a7f1930d10600997fdf\"]\n",
    "project_intersections = intersections[intersections[\"Project ID\"] == \"64962a7f1930d10600997fdf\"]"
   ]
  },
  {
   "cell_type": "markdown",
   "metadata": {},
   "source": [
    "### 1. Ljvf"
   ]
  },
  {
   "cell_type": "code",
   "execution_count": null,
   "metadata": {},
   "outputs": [],
   "source": [
    "## Find Ljvf - segments\n",
    "## Wait, what is the 'V Volume class' in Ljvf? Is it bicycle volume class or pedestrian volume class?\n",
    "## Based on technical documentation and emails from Matt, I think this should be bicycle volume class for roadways and pedestrian volume class for intersections\n",
    "## Group by type, volume class, functional class and sum length\n",
    "project_segments.groupby([\"Type\",\"Bicycle volume class\",\"Functional class\"])[\"Length\"].sum()"
   ]
  },
  {
   "cell_type": "code",
   "execution_count": null,
   "metadata": {},
   "outputs": [],
   "source": [
    "## Also find total Ljvf - sum length (only keep separated by type)\n",
    "project_segments.groupby([\"Type\"])[\"Length\"].sum()"
   ]
  },
  {
   "cell_type": "code",
   "execution_count": null,
   "metadata": {},
   "outputs": [],
   "source": [
    "## Find Ljvf - intersections\n",
    "project_intersections.groupby([\"Type\",\"Pedestrian volume class\",\"Functional class\"])[\"Node ID\"].count()"
   ]
  },
  {
   "cell_type": "code",
   "execution_count": null,
   "metadata": {},
   "outputs": [],
   "source": [
    "## Also find total Ljvf - count all (only keep separated by type)\n",
    "project_intersections.groupby([\"Type\"])[\"Node ID\"].count()"
   ]
  }
 ],
 "metadata": {
  "kernelspec": {
   "display_name": "Python 3",
   "language": "python",
   "name": "python3"
  },
  "language_info": {
   "codemirror_mode": {
    "name": "ipython",
    "version": 3
   },
   "file_extension": ".py",
   "mimetype": "text/x-python",
   "name": "python",
   "nbconvert_exporter": "python",
   "pygments_lexer": "ipython3",
   "version": "3.8.3"
  }
 },
 "nbformat": 4,
 "nbformat_minor": 4
}
