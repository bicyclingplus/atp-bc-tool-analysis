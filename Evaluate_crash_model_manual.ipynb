{
 "cells": [
  {
   "cell_type": "code",
   "execution_count": null,
   "metadata": {},
   "outputs": [],
   "source": [
    "import numpy as np\n",
    "import pandas as pd\n",
    "import matplotlib as plt"
   ]
  },
  {
   "cell_type": "markdown",
   "metadata": {},
   "source": [
    "### Go through the crash estimation steps for one project and see where the numbers start to get off"
   ]
  },
  {
   "cell_type": "code",
   "execution_count": null,
   "metadata": {},
   "outputs": [],
   "source": [
    "## First, let's pick a project with a large/unreasonable number of crashes. Like >100 or so.\n",
    "crashes = pd.read_csv('output_2023_09_05/reports/safety-4-combined-b-crashes-all.csv')\n",
    "(crashes[crashes[\"ECmoj model\"] > 100])[\"Project ID\"].unique()"
   ]
  },
  {
   "cell_type": "markdown",
   "metadata": {},
   "source": [
    "Project ID (picked the first one from table above): 64d2a1c2597e1e819a7b4309"
   ]
  },
  {
   "cell_type": "markdown",
   "metadata": {},
   "source": [
    "Open the 'debug' folder for this project and pull out data to calculate the model crashes\n",
    "Actually if I can get as much stuff as possible from overall reports, that might make this easier (to be able to iterate/generalize to all projects later)\n",
    "\n",
    "Data needed:\n",
    "- Length, functional class, volume class for all segments/intersections in the project\n",
    "    - overall-5-ways.csv, overall-6-intersections.csv\n",
    "- Project length/count totals\n",
    "    - overall-2-reach-type.csv (or just calculate from overall-5-ways.csv and overall-6-intersections.csv)\n",
    "- Ljvf totals\n",
    "    - overall-3-reach-Ljvf.csv\n",
    "- Alpha constants\n",
    "    - safety-4-combined-a-crashes-model.csv\n",
    "- Volume/demand for all segments/intersections in the project\n",
    "    - overall-5-ways.csv, overall-6-intersections.csv\n",
    "- Volume/demand totals\n",
    "    - safety-5-volume-d-combined.csv\n",
    "- ECCmojvf (to compare against my manual results)\n",
    "    - safety-4-combined-a-crashes-model.csv\n",
    "- ECmoj (to compare against my manual results)\n",
    "    - safety-4-combined-b-crashes-all.csv"
   ]
  },
  {
   "cell_type": "code",
   "execution_count": null,
   "metadata": {},
   "outputs": [],
   "source": [
    "segments = pd.read_csv('output_2023_09_05/reports/overall-5-ways.csv')\n",
    "intersections = pd.read_csv('output_2023_09_05/reports/overall-6-intersections.csv')\n",
    "alpha = pd.read_csv('output_2023_09_05/lookups/alpha.csv')\n",
    "Ljvf = pd.read_csv('output_2023_09_05/reports/overall-3-reach-Ljvf.csv')\n",
    "volume = pd.read_csv('output_2023_09_05/reports/safety-5-volume-d-combined.csv')\n",
    "crash_model = pd.read_csv('output_2023_09_05/reports/safety-4-combined-a-crashes-model.csv')"
   ]
  },
  {
   "cell_type": "code",
   "execution_count": null,
   "metadata": {},
   "outputs": [],
   "source": [
    "segments[segments[\"Project ID\"] == \"64d2a1c2597e1e819a7b4309\"]\n",
    "## Oops, this isn't in this table... I wonder why? anyway, let's choose a different project!"
   ]
  },
  {
   "cell_type": "code",
   "execution_count": null,
   "metadata": {},
   "outputs": [],
   "source": [
    "len(crashes[\"Project ID\"].unique())"
   ]
  },
  {
   "cell_type": "code",
   "execution_count": null,
   "metadata": {
    "scrolled": true
   },
   "outputs": [],
   "source": [
    "len(segments[\"Project ID\"].unique())\n",
    "## I wonder why this has 10 less projects than the other table...anyway..."
   ]
  },
  {
   "cell_type": "markdown",
   "metadata": {},
   "source": [
    "New project ID: 64962a7f1930d10600997fdf"
   ]
  },
  {
   "cell_type": "code",
   "execution_count": null,
   "metadata": {},
   "outputs": [],
   "source": [
    "## Get all segments and intersections in project\n",
    "project_segments = segments[segments[\"Project ID\"] == \"64962a7f1930d10600997fdf\"]\n",
    "project_intersections = intersections[intersections[\"Project ID\"] == \"64962a7f1930d10600997fdf\"]"
   ]
  },
  {
   "cell_type": "markdown",
   "metadata": {},
   "source": [
    "### 1. Ljvf"
   ]
  },
  {
   "cell_type": "code",
   "execution_count": null,
   "metadata": {},
   "outputs": [],
   "source": [
    "## Find Ljvf - segments\n",
    "## Wait, what is the 'V Volume class' in Ljvf? Is it bicycle volume class or pedestrian volume class?\n",
    "## Based on technical documentation and emails from Matt, I think this should be bicycle volume class for roadways and pedestrian volume class for intersections\n",
    "## Group by type, volume class, functional class and sum length\n",
    "L_segment_vf = project_segments.groupby([\"Type\",\"Bicycle volume class\",\"Functional class\"])[\"Length\"].sum()"
   ]
  },
  {
   "cell_type": "code",
   "execution_count": null,
   "metadata": {},
   "outputs": [],
   "source": [
    "## Also find total Ljvf - sum length (only keep separated by type)\n",
    "project_segments.groupby([\"Type\"])[\"Length\"].sum()"
   ]
  },
  {
   "cell_type": "code",
   "execution_count": null,
   "metadata": {},
   "outputs": [],
   "source": [
    "## Find Ljvf - intersections\n",
    "L_intersection_vf = project_intersections.groupby([\"Type\",\"Pedestrian volume class\",\"Functional class\"])[\"Node ID\"].count()"
   ]
  },
  {
   "cell_type": "code",
   "execution_count": null,
   "metadata": {},
   "outputs": [],
   "source": [
    "## Also find total Ljvf - count all (only keep separated by type)\n",
    "project_intersections.groupby([\"Type\"])[\"Node ID\"].count()"
   ]
  },
  {
   "cell_type": "markdown",
   "metadata": {},
   "source": [
    "### 2. Alpha constant"
   ]
  },
  {
   "cell_type": "code",
   "execution_count": null,
   "metadata": {},
   "outputs": [],
   "source": [
    "## Find e^alpha from alpha constant\n",
    "alpha[\"e_alpha\"] = np.exp(alpha[\"alpha\"])"
   ]
  },
  {
   "cell_type": "markdown",
   "metadata": {},
   "source": [
    "### 3. Volume"
   ]
  },
  {
   "cell_type": "markdown",
   "metadata": {},
   "source": [
    "$j=roadway, EV_{mj}=\\sum_{w}E_{wm}$\n",
    "\n",
    "$j=intersection, EV_{mj}=\\sum_{i}E_{im}$"
   ]
  },
  {
   "cell_type": "code",
   "execution_count": null,
   "metadata": {},
   "outputs": [],
   "source": [
    "# replace \"Not applicable\" with \"NaN\" to make it possible to be a float type\n",
    "project_segments_n = project_segments.replace(\"Not applicable\",np.NaN)\n",
    "project_intersections_n = project_intersections.replace(\"Not applicable\",np.NaN)"
   ]
  },
  {
   "cell_type": "code",
   "execution_count": null,
   "metadata": {},
   "outputs": [],
   "source": [
    "project_segments_n[\"Bicycle exposure\"]=pd.to_numeric(project_segments_n[\"Bicycle exposure\"])\n",
    "project_segments_n[\"Pedestrian exposure\"]=pd.to_numeric(project_segments_n[\"Pedestrian exposure\"])\n",
    "project_intersections_n[\"Bicycle exposure\"]=pd.to_numeric(project_intersections_n[\"Bicycle exposure\"])\n",
    "project_intersections_n[\"Pedestrian exposure\"]=pd.to_numeric(project_intersections_n[\"Pedestrian exposure\"])"
   ]
  },
  {
   "cell_type": "code",
   "execution_count": null,
   "metadata": {},
   "outputs": [],
   "source": [
    "## Volume = sum of exposure across all ways/intersections\n",
    "V_bicycle_segment = project_segments_n.groupby([\"Type\"])[\"Bicycle exposure\"].sum()\n",
    "V_pedestrian_segment = project_segments_n.groupby([\"Type\"])[\"Pedestrian exposure\"].sum()\n",
    "V_bicycle_intersection = project_intersections_n.groupby([\"Type\"])[\"Bicycle exposure\"].sum()\n",
    "V_pedestrian_intersection = project_intersections_n.groupby([\"Type\"])[\"Pedestrian exposure\"].sum()\n",
    "print(V_bicycling_segment, V_walking_segment, V_bicycling_intersection,V_walking_intersection)"
   ]
  },
  {
   "cell_type": "markdown",
   "metadata": {},
   "source": [
    "### 4. Crashes by functional/volume class"
   ]
  },
  {
   "cell_type": "markdown",
   "metadata": {},
   "source": [
    "$ECC_{cmojvf} = e^{Ɑ_{mojvf}} * L_{jvf} * (EV_{cmj})^{p}$\n",
    "\n",
    "$EC_{cmoj} = \\sum_{f}\\sum_{v}ECC_{cmojvf}$"
   ]
  },
  {
   "cell_type": "markdown",
   "metadata": {},
   "source": [
    "1. Starting with segments"
   ]
  },
  {
   "cell_type": "code",
   "execution_count": null,
   "metadata": {},
   "outputs": [],
   "source": [
    "L_segment_vf.index"
   ]
  },
  {
   "cell_type": "code",
   "execution_count": null,
   "metadata": {},
   "outputs": [],
   "source": [
    "L_segment_vf.index.rename([\"Type\",\"volume\",\"functional class\"])\n",
    "L_segment_vf.index.set_levels(L_segment_vf.index.levels[1].str.lower(),level=1)\n",
    "L_segment_vf.loc[('network')]"
   ]
  },
  {
   "cell_type": "code",
   "execution_count": null,
   "metadata": {},
   "outputs": [],
   "source": [
    "alpha[alpha[\"location type\"] == \"roadway\"]"
   ]
  },
  {
   "cell_type": "code",
   "execution_count": null,
   "metadata": {},
   "outputs": [],
   "source": [
    "alpha_L_segment_vf = pd.merge(alpha[alpha[\"location type\"] == \"roadway\"],L_segment_vf,on=[\"volume\",\"functional class\"],how='outer')\n",
    "alpha_L_segment_vf[\"e_alpha_Length\"] = alpha_L_segment_vf[\"e_alpha\"]*alpha_L_segment_vf[\"Length\"]"
   ]
  },
  {
   "cell_type": "code",
   "execution_count": null,
   "metadata": {},
   "outputs": [],
   "source": [
    "Vm_segment = pd.DataFrame(data={\"mode\":[\"bicycling\",\"walking\",\"combined\"],\"Vmj\":[V_bicycle_segment[0],V_pedestrian_segment[0],V_bicycle_segment[0] + V_pedestrian_segment[0]]})\n",
    "alpha_L_segment_vf_V_m = pd.merge(alpha_L_segment_vf, Vm_segment,on=\"mode\")"
   ]
  },
  {
   "cell_type": "code",
   "execution_count": null,
   "metadata": {},
   "outputs": [],
   "source": [
    "alpha_L_segment_vf_V_m[\"Vmj_p\"] = pow(alpha_L_segment_vf_V_m[\"Vmj\"],0.5)\n",
    "alpha_L_segment_vf_V_m[\"e_alpha_Vmj_p\"] = alpha_L_segment_vf_V_m[\"e_alpha\"]*alpha_L_segment_vf_V_m[\"Vmj_p\"]\n",
    "alpha_L_segment_vf_V_m[\"ECCmojvf\"] = alpha_L_segment_vf_V_m[\"e_alpha_Length\"]*alpha_L_segment_vf_V_m[\"Vmj_p\"]\n",
    "alpha_L_segment_vf_V_m"
   ]
  },
  {
   "cell_type": "code",
   "execution_count": null,
   "metadata": {},
   "outputs": [],
   "source": [
    "## This is e^alpha * Volume which should be crashes/mile\n",
    "alpha_L_segment_vf_V_m.groupby([\"mode\",\"outcome\"])[\"e_alpha_Vmj_p\"].plot(legend=True)"
   ]
  },
  {
   "cell_type": "code",
   "execution_count": null,
   "metadata": {},
   "outputs": [],
   "source": [
    "## Crashes\n",
    "alpha_L_segment_vf_V_m.groupby([\"mode\",\"outcome\"])[\"ECCmojvf\"].plot(legend=True)"
   ]
  },
  {
   "cell_type": "code",
   "execution_count": null,
   "metadata": {},
   "outputs": [],
   "source": [
    "## ECmoj (summed across volume and functional classes)\n",
    "alpha_L_segment_vf_V_m.groupby([\"mode\",\"outcome\"]).sum()"
   ]
  },
  {
   "cell_type": "markdown",
   "metadata": {},
   "source": [
    "So when calculated manually, segments also have hundreds/thousands of crashes!? Clearly it seems like there is some problem or difference in the way the tool is calculating crashes from the given data (regardless of whether there are also issues with the underlying data/constants). This might have something to do with the Ljvf calculation..."
   ]
  },
  {
   "cell_type": "markdown",
   "metadata": {},
   "source": [
    "2. Next intersections"
   ]
  },
  {
   "cell_type": "code",
   "execution_count": null,
   "metadata": {},
   "outputs": [],
   "source": [
    "#Vm_intersection = V_bicycle_intersection[0]\n",
    "#Vm_intersection = V_pedestrian_intersection[0]\n",
    "#Vm_intersection = V_bicycle_intersection[0] + V_pedestrian_intersection[0]"
   ]
  },
  {
   "cell_type": "markdown",
   "metadata": {},
   "source": [
    "3. Compare with the Ljvf, Vmj, ECCmojvf, ECmoj used in the tool"
   ]
  },
  {
   "cell_type": "code",
   "execution_count": null,
   "metadata": {},
   "outputs": [],
   "source": [
    "## very messy but it is supposed to be slow and manual so it's ok\n",
    "## start with segments:\n",
    "## for mode in [\"bicycling\",\"walking\",\"combined\"]:\n",
    "##    if mode == \"bicycling\":\n",
    "##        Vm_segment = V_bicycle_segment[0]\n",
    "##    if mode == \"walking\":\n",
    "##        Vm_segment = V_pedestrian_segment[0]\n",
    "##    if mode == \"combined\":\n",
    "##        Vm_segment = V_bicycle_segment[0] + V_pedestrian_segment[0]\n",
    "##    print(\"Volume for %s\"% mode, Vm_segment)\n",
    "##    Vm_segment_p = pow(Vm_segment,0.5)\n",
    "##    print(\"Volume^0.5 for %s\"% mode, Vm_segment_p)\n",
    "##    for outcome in [\"crash\",\"injury\",\"death\"]:\n",
    "##        alpha_segment_mojvf = alpha[alpha[\"location type\"] == \"roadway\"][alpha[\"mode\"] == mode][alpha[\"outcome\"] == outcome]\n",
    "##        for index,row in alpha_L_segment_vf.iterrows():\n",
    "##            print([mode,outcome,row['volume'],row['functional class']],row[\"e_alpha\"],row[\"Length\"])\n",
    "##            print(\"e^alpha * Ljvf = %s\"% row[\"e_alpha_Length\"])\n",
    "##            ECCmojvf = row[\"e_alpha_Length\"] * Vm_segment_p\n",
    "##            print(\"ECCmojvf = e^alpha * Ljvf * Vmj^0.5 = %s\"% ECCmojvf)\n",
    "        ## for index,row in alpha_segment_mojvf.iterrows():\n",
    "            ## (volume_class,functional_class) = (row[\"volume\"],row[\"functional class\"])\n",
    "            ## print([mode,outcome,volume_class,functional_class])\n",
    "            ## length = L_segment_vf.loc[('network',volume_class,functional_class)]\n",
    "        ## print(alpha_segment_mjvf)\n",
    "        ## print(L_segment_vf)\n",
    "        ## print(mode,outcome)\n",
    "        ## L_segment_vf\n",
    "        ## L_intersection_vf"
   ]
  }
 ],
 "metadata": {
  "kernelspec": {
   "display_name": "Python 3",
   "language": "python",
   "name": "python3"
  },
  "language_info": {
   "codemirror_mode": {
    "name": "ipython",
    "version": 3
   },
   "file_extension": ".py",
   "mimetype": "text/x-python",
   "name": "python",
   "nbconvert_exporter": "python",
   "pygments_lexer": "ipython3",
   "version": "3.8.3"
  }
 },
 "nbformat": 4,
 "nbformat_minor": 4
}
