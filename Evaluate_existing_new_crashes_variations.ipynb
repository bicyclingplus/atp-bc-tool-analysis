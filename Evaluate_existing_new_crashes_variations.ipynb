{
 "cells": [
  {
   "cell_type": "code",
   "execution_count": null,
   "metadata": {},
   "outputs": [],
   "source": [
    "import numpy as np\n",
    "import pandas as pd\n",
    "import matplotlib as plt"
   ]
  },
  {
   "cell_type": "code",
   "execution_count": null,
   "metadata": {},
   "outputs": [],
   "source": [
    "safety = pd.read_csv('output_2023_09_05/reports/safety-4-combined-b-crashes-all.csv')"
   ]
  },
  {
   "cell_type": "markdown",
   "metadata": {},
   "source": [
    "### Graphs of existing approach - compare variations of existing crashes with new crashes"
   ]
  },
  {
   "cell_type": "markdown",
   "metadata": {},
   "source": [
    "TODO: need to look at the splits somewhere - first correct the equation"
   ]
  },
  {
   "cell_type": "code",
   "execution_count": null,
   "metadata": {},
   "outputs": [],
   "source": [
    "## Filter out only the mean estimates for now (since that is what the tool uses anyway)\n",
    "safety_mean = safety[safety[\"K estimate\"] == \"mean\"]\n",
    "## Make three copies sorted by new crashes, user-inputted EC and model EC\n",
    "safety_mean_sorted_NC = safety_mean.sort_values(by=[\"NCmojk\"]).reset_index()\n",
    "safety_mean_sorted_user = safety_mean.sort_values(by=[\"ECmoj with user input\"]).reset_index()\n",
    "safety_mean_sorted_model = safety_mean.sort_values(by=[\"ECmoj model\"]).reset_index()"
   ]
  },
  {
   "cell_type": "code",
   "execution_count": null,
   "metadata": {},
   "outputs": [],
   "source": [
    "## plot overall existing and new crash variations\n",
    "safety_mean.plot(y=[\"NCmojk\",\"ECmoj model\",\"ECmoj with user input\"],figsize=(15,10))"
   ]
  },
  {
   "cell_type": "code",
   "execution_count": null,
   "metadata": {},
   "outputs": [],
   "source": [
    "## Sorted by min->max New Crashes\n",
    "safety_mean_sorted_NC.plot(y=[\"ECmoj model\",\"ECmoj with user input\",\"NCmojk\"],figsize=(15,10))"
   ]
  },
  {
   "cell_type": "code",
   "execution_count": null,
   "metadata": {
    "scrolled": false
   },
   "outputs": [],
   "source": [
    "## Zooming in...\n",
    "safety_mean_sorted_NC.plot(y=[\"ECmoj model\",\"ECmoj with user input\",\"NCmojk\"],figsize=(15,10),ylim=(0,50))"
   ]
  },
  {
   "cell_type": "markdown",
   "metadata": {},
   "source": [
    "- Note a big cluster of projects with a much higher user-inputted ECmoj than model ECmoj, where the model EC and NC seem to be close to zero\n",
    "- Note that there actually seem to be several projects where EC was less than NC even for the model? let's look into this further\n",
    "- but in general, the model is much much higher than the user-inputted, especially for the larger (?) projects"
   ]
  },
  {
   "cell_type": "code",
   "execution_count": null,
   "metadata": {},
   "outputs": [],
   "source": [
    "## Sorted by the user model\n",
    "safety_mean_sorted_user.plot(y=[\"ECmoj model\",\"NCmojk\", \"ECmoj with user input\"],figsize=(15,10))"
   ]
  },
  {
   "cell_type": "markdown",
   "metadata": {},
   "source": [
    "- Note that the user-inputted data varies much less than the model data (model appears to increase to much higher levels of crashes)\n",
    "- although there does roughly seem to be a correlation between the higher user-inputted values and higher modeled values\n",
    "- but it is clearly unreasonable to use the user-inputted EC and model-based NC. They are not even close to being on the same scale."
   ]
  },
  {
   "cell_type": "code",
   "execution_count": null,
   "metadata": {},
   "outputs": [],
   "source": [
    "## Zooming in...\n",
    "safety_mean_sorted_user.plot(y=[\"ECmoj model\",\"NCmojk\", \"ECmoj with user input\"],figsize=(15,10), ylim=(0,50))"
   ]
  },
  {
   "cell_type": "code",
   "execution_count": null,
   "metadata": {
    "scrolled": false
   },
   "outputs": [],
   "source": [
    "## Sorted by model EC - very similar to sorted by NC\n",
    "safety_mean_sorted_model.plot(y=[\"NCmojk\",\"ECmoj model\", \"ECmoj with user input\"],figsize=(15,10))"
   ]
  },
  {
   "cell_type": "code",
   "execution_count": null,
   "metadata": {
    "scrolled": true
   },
   "outputs": [],
   "source": [
    "## Looking individually at each mode...\n",
    "safety_mean_sorted_NC.groupby(safety_mean_sorted_NC[\"M Mode\"]).plot(y=[\"ECmoj model\",\"ECmoj with user input\",\"NCmojk\"],figsize=(15,10))"
   ]
  },
  {
   "cell_type": "markdown",
   "metadata": {},
   "source": [
    "- Looks like for bicycling, NC model is often above EC model for some reason? why?\n",
    "- For the other modes, EC model is typically above NC model, which is expected. For all of them, user EC are about constant, maybe slightly increasing but model EC/NC are exponentially increasing (for larger/more dangerous projects presumably).\n",
    "\n",
    "Basically I think the conclusion is that it is not reasonable to use user-inputted EC and model-estimated NC to find crash change."
   ]
  },
  {
   "cell_type": "code",
   "execution_count": null,
   "metadata": {},
   "outputs": [],
   "source": []
  }
 ],
 "metadata": {
  "kernelspec": {
   "display_name": "Python 3",
   "language": "python",
   "name": "python3"
  },
  "language_info": {
   "codemirror_mode": {
    "name": "ipython",
    "version": 3
   },
   "file_extension": ".py",
   "mimetype": "text/x-python",
   "name": "python",
   "nbconvert_exporter": "python",
   "pygments_lexer": "ipython3",
   "version": "3.8.3"
  }
 },
 "nbformat": 4,
 "nbformat_minor": 4
}
