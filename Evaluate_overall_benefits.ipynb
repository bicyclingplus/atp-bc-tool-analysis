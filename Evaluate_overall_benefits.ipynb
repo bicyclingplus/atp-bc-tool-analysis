{
 "cells": [
  {
   "cell_type": "code",
   "execution_count": null,
   "metadata": {},
   "outputs": [],
   "source": [
    "import numpy as np\n",
    "import pandas as pd"
   ]
  },
  {
   "cell_type": "code",
   "execution_count": null,
   "metadata": {},
   "outputs": [],
   "source": [
    "safety = pd.read_csv('output_2023_09_05/reports/safety-4-combined-c-crashes-volume.csv')\n",
    "travel = pd.read_csv('output_2023_09_05/reports/travel-4-combined.csv')\n",
    "travel_elements = pd.read_csv('output_2023_09_05/reports/travel-2-change.csv')"
   ]
  },
  {
   "cell_type": "markdown",
   "metadata": {},
   "source": [
    "## Finding how many projects have zero or negative travel/positive safety benefits\n",
    "- Filter projects where travel benefits are <= 0\n",
    "- Filter projects where safety benefits are >= 0\n",
    "- Find total # of projects and see what proportion of projects have \"unreasonable\" travel or safety benefits\n",
    "- Graphs of travel/safety benefits by mode\n",
    "- Graphs of travel/safety benefits from min -> max to visually see how many of the projects have \"unreasonable\" benefits\n",
    "\n",
    "TODO:\n",
    "- Find projects where ALL travel or safety benefits are \"unreasonable\" (not just at least one of the benefits)"
   ]
  },
  {
   "cell_type": "markdown",
   "metadata": {},
   "source": [
    "### Initial counts/proportions"
   ]
  },
  {
   "cell_type": "code",
   "execution_count": null,
   "metadata": {
    "scrolled": false
   },
   "outputs": [],
   "source": [
    "project_id = travel[\"Project ID\"].unique() ## find a more principled way to do this\n",
    "len(project_id)\n",
    "## So there are 186 projects in total"
   ]
  },
  {
   "cell_type": "code",
   "execution_count": null,
   "metadata": {
    "scrolled": true
   },
   "outputs": [],
   "source": [
    "## Projects with \"bad\" results for travel - 0 or negative increase in travel\n",
    "## (note that this is not always bad. there could be 0 increase for some mode but a positive increase for the others)\n",
    "## (maybe find a total increase across both modes and see if THAT is ever 0)\n",
    "travel[travel[\"Total Increase in Travel\"] <= 0]"
   ]
  },
  {
   "cell_type": "code",
   "execution_count": null,
   "metadata": {
    "scrolled": true
   },
   "outputs": [],
   "source": [
    "## All projects with at least one \"bad\" travel result\n",
    "bad_travel_id = travel[travel[\"Total Increase in Travel\"] <= 0][\"Project ID\"].unique()\n",
    "# All projects with at least one negative travel result\n",
    "negative_travel_id = travel[travel[\"Total Increase in Travel\"] < 0][\"Project ID\"].unique()\n",
    "# All projects with at least one zero travel result\n",
    "zero_travel_id = travel[travel[\"Total Increase in Travel\"] == 0][\"Project ID\"].unique()"
   ]
  },
  {
   "cell_type": "code",
   "execution_count": null,
   "metadata": {},
   "outputs": [],
   "source": [
    "## Proportion of projects with \"bad\" travel results\n",
    "len(bad_travel_id)/len(project_id)\n",
    "## So there are 63% of projects with 0 or negative increase in travel for at least one mode or estimate"
   ]
  },
  {
   "cell_type": "code",
   "execution_count": null,
   "metadata": {},
   "outputs": [],
   "source": [
    "## Proportion of projects with negative travel results\n",
    "len(negative_travel_id)/len(project_id)\n",
    "## I think these are just the lower estimates with conventional-bike-lane"
   ]
  },
  {
   "cell_type": "code",
   "execution_count": null,
   "metadata": {},
   "outputs": [],
   "source": [
    "## Proportion of projects with zero travel results\n",
    "len(zero_travel_id)/len(project_id)"
   ]
  },
  {
   "cell_type": "code",
   "execution_count": null,
   "metadata": {
    "scrolled": true
   },
   "outputs": [],
   "source": [
    "safety[safety[\"Change in crashes\"] >= 0]"
   ]
  },
  {
   "cell_type": "code",
   "execution_count": null,
   "metadata": {},
   "outputs": [],
   "source": [
    "## All projects with at least one \"bad\" safety result\n",
    "bad_safety_id = safety[safety[\"Change in crashes\"] >= 0][\"Project ID\"].unique()\n",
    "good_safety_id = safety[safety[\"Change in crashes\"] < 0][\"Project ID\"].unique()\n",
    "## unique is not the best way to do this\n",
    "\n",
    "## All projects with at least one positive safety result\n",
    "positive_safety_id = safety[safety[\"Change in crashes\"] > 0][\"Project ID\"].unique()\n",
    "## All projects with at least one zero safety result\n",
    "zero_safety_id = safety[safety[\"Change in crashes\"] == 0][\"Project ID\"].unique()"
   ]
  },
  {
   "cell_type": "code",
   "execution_count": null,
   "metadata": {},
   "outputs": [],
   "source": [
    "## Proportion of projects with \"bad\" safety results\n",
    "len(bad_safety_id)/len(project_id)\n",
    "## EVERY SINGLE PROJECT has some increase in crashes?!\n",
    "## should split this out by mode, location type, outcome, estimate etc"
   ]
  },
  {
   "cell_type": "code",
   "execution_count": null,
   "metadata": {},
   "outputs": [],
   "source": [
    "## Proportion of projects with positive safety results\n",
    "len(positive_safety_id)/len(project_id)"
   ]
  },
  {
   "cell_type": "code",
   "execution_count": null,
   "metadata": {},
   "outputs": [],
   "source": [
    "## Proportion of projects with zero safety results\n",
    "len(zero_safety_id)/len(project_id)"
   ]
  },
  {
   "cell_type": "code",
   "execution_count": null,
   "metadata": {},
   "outputs": [],
   "source": [
    "len(good_safety_id)/len(project_id)\n",
    "## but half of the projects have at least one \"good\" (negative/decrease in crashes) safety result\n",
    "## Maybe this means they overlap somehow - part of one project is positive and another part is negative\n",
    "## separate by mode, location type, outcome"
   ]
  },
  {
   "cell_type": "code",
   "execution_count": null,
   "metadata": {
    "scrolled": true
   },
   "outputs": [],
   "source": [
    "travel_elements[travel_elements[\"Increase in travel\"] < 0]\n",
    "## Aha - so conventional bike lane is resulting in decreased travel for some reason\n",
    "## look at the lookup table for the lower estimate of conventional-bike-lane\n",
    "## yes, confirmed that conventional bike lane has a 21 % decrease in travel (-21%) for the lowest estimate, this is expected behavior"
   ]
  },
  {
   "cell_type": "code",
   "execution_count": null,
   "metadata": {},
   "outputs": [],
   "source": [
    "travel[travel[\"Total Increase in Travel\"] < 0]\n",
    "## So for all of these projects, the negative change in travel is only because of conventional bike lane"
   ]
  },
  {
   "cell_type": "markdown",
   "metadata": {},
   "source": [
    "### Graphs"
   ]
  },
  {
   "cell_type": "markdown",
   "metadata": {},
   "source": [
    "#### Graph 1: Proportion of projects with negative or zero travel results\n",
    "#### Graph 2: Proportion of projects with positive or zero safety results"
   ]
  },
  {
   "cell_type": "markdown",
   "metadata": {},
   "source": [
    "#### Graph 3: overall travel results across all projects\n",
    "1. Separate by mode\n",
    "2. Use only mean for now for simplicity and because mean is what is primarily displayed in the tool (I think)"
   ]
  },
  {
   "cell_type": "code",
   "execution_count": null,
   "metadata": {},
   "outputs": [],
   "source": [
    "travel[\"Existing Travel\"].groupby(travel[\"M Mode\"]).plot(legend=\"true\")"
   ]
  },
  {
   "cell_type": "code",
   "execution_count": null,
   "metadata": {},
   "outputs": [],
   "source": [
    "travel[\"Weighted Existing Travel\"].groupby(travel[\"M Mode\"]).plot(legend=\"true\")"
   ]
  },
  {
   "cell_type": "code",
   "execution_count": null,
   "metadata": {},
   "outputs": [],
   "source": [
    "travel[\"Total Increase in Travel\"].groupby(travel[\"M Mode\"]).plot(legend=\"true\")"
   ]
  },
  {
   "cell_type": "code",
   "execution_count": null,
   "metadata": {},
   "outputs": [],
   "source": [
    "travel_mean = travel[travel[\"K Estimate\"] == \"mean\"]"
   ]
  },
  {
   "cell_type": "code",
   "execution_count": null,
   "metadata": {
    "scrolled": true
   },
   "outputs": [],
   "source": [
    "travel_mean[\"Total Increase in Travel\"].groupby(travel[\"M Mode\"]).plot(legend=\"true\")\n",
    "## Interesting how the two modes don't really line up, as they do for safety results!"
   ]
  },
  {
   "cell_type": "code",
   "execution_count": null,
   "metadata": {},
   "outputs": [],
   "source": [
    "travel_mean[travel_mean[\"M Mode\"] == \"bicycling\"].sort_values(by=[\"Total Increase in Travel\"]).reset_index()[\"Total Increase in Travel\"].plot()\n",
    "## when this isn't set to just the mean values, there are a very small number of negatives here - because the lower estimate for conventional bike lane is negative as described above"
   ]
  },
  {
   "cell_type": "code",
   "execution_count": null,
   "metadata": {},
   "outputs": [],
   "source": [
    "travel_mean[travel_mean[\"M Mode\"] == \"walking\"].sort_values(by=[\"Total Increase in Travel\"]).reset_index()[\"Total Increase in Travel\"].plot()"
   ]
  },
  {
   "cell_type": "markdown",
   "metadata": {},
   "source": [
    "#### Graph 4: overall safety results across all projects\n",
    "For now...\n",
    "1. Start with just crashes (not injury/death) for simplicity\n",
    "2. Separate by mode (summed across location type)\n",
    "3. Maybe should also separate by estimate type? (maybe some kind of range of values) but anyway I think this gives a pretty clear answer"
   ]
  },
  {
   "cell_type": "code",
   "execution_count": null,
   "metadata": {},
   "outputs": [],
   "source": [
    "safety_crash = safety[safety[\"O Outcome\"] == \"crash\"]"
   ]
  },
  {
   "cell_type": "code",
   "execution_count": null,
   "metadata": {},
   "outputs": [],
   "source": [
    "safety_crash[\"Change in crashes\"].plot()\n",
    "## safety_crash_mean = safety_crash[safety_crash[\"K Estimate\"] == \"mean\"][\"Change in crashes\"].plot()"
   ]
  },
  {
   "cell_type": "code",
   "execution_count": null,
   "metadata": {},
   "outputs": [],
   "source": [
    "safety_crash[safety_crash[\"M Mode\"] == \"bicycling\"][\"Change in crashes\"].plot()"
   ]
  },
  {
   "cell_type": "code",
   "execution_count": null,
   "metadata": {},
   "outputs": [],
   "source": [
    "safety_crash[safety_crash[\"M Mode\"] == \"walking\"][\"Change in crashes\"].plot()"
   ]
  },
  {
   "cell_type": "code",
   "execution_count": null,
   "metadata": {},
   "outputs": [],
   "source": [
    "safety_crash[safety_crash[\"M Mode\"] == \"combined\"][\"Change in crashes\"].plot()"
   ]
  },
  {
   "cell_type": "code",
   "execution_count": null,
   "metadata": {},
   "outputs": [],
   "source": [
    "safety_crash[safety_crash[\"M Mode\"] == \"bicycling\"].sort_values(by=[\"Change in crashes\"]).reset_index()[\"Change in crashes\"].plot()"
   ]
  },
  {
   "cell_type": "code",
   "execution_count": null,
   "metadata": {},
   "outputs": [],
   "source": [
    "safety_crash[safety_crash[\"M Mode\"] == \"walking\"].sort_values(by=[\"Change in crashes\"]).reset_index()[\"Change in crashes\"].plot()"
   ]
  },
  {
   "cell_type": "code",
   "execution_count": null,
   "metadata": {},
   "outputs": [],
   "source": [
    "## TODO: combine all of these sorted graphs into one graph with all modes layered\n",
    "safety_crash[safety_crash[\"M Mode\"] == \"combined\"].sort_values(by=[\"Change in crashes\"]).reset_index()[\"Change in crashes\"].plot()"
   ]
  },
  {
   "cell_type": "code",
   "execution_count": null,
   "metadata": {
    "scrolled": true
   },
   "outputs": [],
   "source": [
    "safety_crash[\"Change in crashes\"].groupby(safety_crash[\"M Mode\"]).plot(legend=\"true\")"
   ]
  },
  {
   "cell_type": "code",
   "execution_count": null,
   "metadata": {},
   "outputs": [],
   "source": [
    "## Finally, let's just check the change in crashes over project time frame to the base crash change\n",
    "## this is what is reported in the tool (but should be basically proportional to the original)\n",
    "safety_crash[\"Change in crashes over project time frame\"].groupby(safety_crash[\"M Mode\"]).plot(legend=\"true\")\n",
    "safety_crash[\"Change in crashes\"].groupby(safety_crash[\"M Mode\"]).plot(legend=\"true\")\n",
    "## Not super helpful though because the numbers are so huge - but this gives a good picture of how there are quite a few projects supposedly increasing many thousands of crashes"
   ]
  },
  {
   "cell_type": "markdown",
   "metadata": {},
   "source": [
    "So the result is basically that almost every single project has positive safety results (increase in crashes)\n",
    "\n",
    "- Most projects are generally around 0 crash change\n",
    "- a few have very large (several thousand) crash change\n",
    "- a few have (the expected) negative change\n",
    "\n",
    "These all go up even further to a change of thousands of crashes once they are scaled to the project time frame\n",
    "\n",
    "So yes, this is in fact a very widespread issue with the tool"
   ]
  }
 ],
 "metadata": {
  "kernelspec": {
   "display_name": "Python 3",
   "language": "python",
   "name": "python3"
  },
  "language_info": {
   "codemirror_mode": {
    "name": "ipython",
    "version": 3
   },
   "file_extension": ".py",
   "mimetype": "text/x-python",
   "name": "python",
   "nbconvert_exporter": "python",
   "pygments_lexer": "ipython3",
   "version": "3.8.3"
  }
 },
 "nbformat": 4,
 "nbformat_minor": 4
}
