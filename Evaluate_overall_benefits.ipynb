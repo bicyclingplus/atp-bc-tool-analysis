{
 "cells": [
  {
   "cell_type": "code",
   "execution_count": null,
   "metadata": {},
   "outputs": [],
   "source": [
    "import numpy as np\n",
    "import pandas as pd"
   ]
  },
  {
   "cell_type": "code",
   "execution_count": null,
   "metadata": {},
   "outputs": [],
   "source": [
    "safety = pd.read_csv('output_2023_09_05/reports/safety-4-combined-c-crashes-volume.csv')\n",
    "travel = pd.read_csv('output_2023_09_05/reports/travel-4-combined.csv')\n",
    "travel_elements = pd.read_csv('output_2023_09_05/reports/travel-2-change.csv')"
   ]
  },
  {
   "cell_type": "markdown",
   "metadata": {},
   "source": [
    "### Finding how many projects have zero or negative travel/positive safety benefits\n",
    "- Filter projects where travel benefits are <= 0\n",
    "- Filter projects where safety benefits are >= 0\n",
    "- Find total # of projects and see what proportion of projects have \"unreasonable\" travel or safety benefits\n",
    "\n",
    "TODO:\n",
    "- add graphs of benefits\n",
    "- split benefits by mode type, location type, outcome, estimate etc\n",
    "- Find projects where ALL travel or safety benefits are \"unreasonable\" (not just at least one of the benefits)"
   ]
  },
  {
   "cell_type": "code",
   "execution_count": null,
   "metadata": {
    "scrolled": false
   },
   "outputs": [],
   "source": [
    "project_id_travel = travel[\"Project ID\"].unique() ## find a more principled way to do this\n",
    "len(project_id)\n",
    "## So there are 186 projects in total"
   ]
  },
  {
   "cell_type": "code",
   "execution_count": null,
   "metadata": {
    "scrolled": true
   },
   "outputs": [],
   "source": [
    "## Projects with \"bad\" results for travel - 0 or negative increase in travel\n",
    "## (note that this is not always bad. there could be 0 increase for some mode but a positive increase for the others)\n",
    "## (maybe find a total increase across both modes and see if THAT is ever 0)\n",
    "travel[travel[\"Total Increase in Travel\"] <= 0]"
   ]
  },
  {
   "cell_type": "code",
   "execution_count": null,
   "metadata": {
    "scrolled": true
   },
   "outputs": [],
   "source": [
    "## All projects with at least one \"bad\" travel result\n",
    "bad_travel_id = travel[travel[\"Total Increase in Travel\"] <= 0][\"Project ID\"].unique()\n",
    "bad_travel_id"
   ]
  },
  {
   "cell_type": "code",
   "execution_count": null,
   "metadata": {},
   "outputs": [],
   "source": [
    "## Proportion of projects with \"bad\" travel results\n",
    "len(bad_travel_id)/len(project_id)\n",
    "## So there are 63% of projects with 0 or negative increase in travel for at least one mode or estimate"
   ]
  },
  {
   "cell_type": "code",
   "execution_count": null,
   "metadata": {
    "scrolled": true
   },
   "outputs": [],
   "source": [
    "safety[safety[\"Change in crashes\"] >= 0]"
   ]
  },
  {
   "cell_type": "code",
   "execution_count": null,
   "metadata": {},
   "outputs": [],
   "source": [
    "bad_safety_id = safety[safety[\"Change in crashes\"] >= 0][\"Project ID\"].unique()\n",
    "good_safety_id = safety[safety[\"Change in crashes\"] < 0][\"Project ID\"].unique()\n",
    "## unique is not the best way to do this"
   ]
  },
  {
   "cell_type": "code",
   "execution_count": null,
   "metadata": {},
   "outputs": [],
   "source": [
    "## Proportion of projects with \"bad\" safety results\n",
    "len(bad_safety_id)/len(project_id)\n",
    "## EVERY SINGLE PROJECT has some increase in crashes?!\n",
    "## should split this out by mode, location type, outcome, estimate etc"
   ]
  },
  {
   "cell_type": "code",
   "execution_count": null,
   "metadata": {},
   "outputs": [],
   "source": [
    "len(good_safety_id)/len(project_id)\n",
    "## but half of the projects have at least one \"good\" (negative/decrease in crashes) safety result\n",
    "## Maybe this means they overlap somehow - part of one project is positive and another part is negative\n",
    "## separate by mode, location type, outcome"
   ]
  },
  {
   "cell_type": "code",
   "execution_count": null,
   "metadata": {
    "scrolled": true
   },
   "outputs": [],
   "source": [
    "travel_elements[travel_elements[\"Increase in travel\"] < 0]\n",
    "## Aha - so conventional bike lane is resulting in decreased travel for some reason\n",
    "## look at the lookup table for the lower estimate of conventional-bike-lane\n",
    "## yes, confirmed that conventional bike lane has a 21 % decrease in travel for the lowest estimate, this is expected behavior"
   ]
  },
  {
   "cell_type": "code",
   "execution_count": null,
   "metadata": {},
   "outputs": [],
   "source": []
  }
 ],
 "metadata": {
  "kernelspec": {
   "display_name": "Python 3",
   "language": "python",
   "name": "python3"
  },
  "language_info": {
   "codemirror_mode": {
    "name": "ipython",
    "version": 3
   },
   "file_extension": ".py",
   "mimetype": "text/x-python",
   "name": "python",
   "nbconvert_exporter": "python",
   "pygments_lexer": "ipython3",
   "version": "3.8.3"
  }
 },
 "nbformat": 4,
 "nbformat_minor": 4
}
